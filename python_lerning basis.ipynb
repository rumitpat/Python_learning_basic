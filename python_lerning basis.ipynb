{
 "cells": [
  {
   "cell_type": "code",
   "execution_count": null,
   "metadata": {},
   "outputs": [],
   "source": [
    "print(print())"
   ]
  },
  {
   "cell_type": "code",
   "execution_count": null,
   "metadata": {},
   "outputs": [],
   "source": []
  },
  {
   "cell_type": "code",
   "execution_count": null,
   "metadata": {},
   "outputs": [],
   "source": [
    "print(22//7)"
   ]
  },
  {
   "cell_type": "code",
   "execution_count": null,
   "metadata": {},
   "outputs": [],
   "source": [
    "print(22/7)"
   ]
  },
  {
   "cell_type": "code",
   "execution_count": null,
   "metadata": {},
   "outputs": [],
   "source": [
    " print(\"python stringe\\n are very use\")"
   ]
  },
  {
   "cell_type": "code",
   "execution_count": null,
   "metadata": {},
   "outputs": [],
   "source": [
    "tabstring =\"1\\t2\\t3\\t\"\n",
    "print(tabstring)"
   ]
  },
  {
   "cell_type": "code",
   "execution_count": null,
   "metadata": {},
   "outputs": [],
   "source": [
    "print('what\\'s your name?')\n",
    "print(\"my name is \\\"rumit\\\"\")"
   ]
  },
  {
   "cell_type": "code",
   "execution_count": null,
   "metadata": {},
   "outputs": [],
   "source": [
    "print(\"hello\" + \" word\")"
   ]
  },
  {
   "cell_type": "code",
   "execution_count": null,
   "metadata": {},
   "outputs": [],
   "source": [
    "var1 = \"rumit\"\n",
    "type(var1)"
   ]
  },
  {
   "cell_type": "code",
   "execution_count": null,
   "metadata": {},
   "outputs": [],
   "source": [
    "\n",
    "var1 =int(input(\"enter a nu one: \"))\n",
    "var2 =int(input(\"ente a nu two: \"))\n",
    "print(var1+var2)\n",
    "print(var1**var2)\n",
    "print(var1%var2)\n",
    "print(var1/var2)\n",
    "print(var1//var2)\n",
    "print(var1-var2)\n",
    "print(var1*var2)\n"
   ]
  },
  {
   "cell_type": "code",
   "execution_count": null,
   "metadata": {},
   "outputs": [],
   "source": [
    "var1 =\"hello\"\n",
    "var2 =\"rumit\"\n",
    "var3 =var1+' '+ var2 +'.how are you ?'\n",
    "print(var3)"
   ]
  },
  {
   "cell_type": "code",
   "execution_count": null,
   "metadata": {},
   "outputs": [],
   "source": [
    "\n",
    "var4 ='{},{}.how are you?'.format(var1,var2)\n",
    "print(var4)"
   ]
  },
  {
   "cell_type": "code",
   "execution_count": null,
   "metadata": {},
   "outputs": [],
   "source": [
    "var5 =f'{var1},{var2}.how are you?'\n",
    "print(var5)"
   ]
  },
  {
   "cell_type": "code",
   "execution_count": null,
   "metadata": {},
   "outputs": [],
   "source": [
    "var6 =\"Rumit M Gevariya\"\n",
    "print(var6)\n",
    "print(type(var6))\n",
    "print(var6.lower())\n",
    "print(var6.upper())\n",
    "print(var6.__len__())\n",
    "print(len(var6))\n",
    "print(var6.count('a'))\n",
    "print(var6.find('Shelf'))\n",
    "print(var6[10])\n",
    "print(var6[0:8])"
   ]
  },
  {
   "cell_type": "code",
   "execution_count": null,
   "metadata": {},
   "outputs": [],
   "source": [
    "name =input(\"enter your name: \")"
   ]
  },
  {
   "cell_type": "code",
   "execution_count": null,
   "metadata": {},
   "outputs": [],
   "source": [
    "name1 =\"RUmit M Gevariya\"\n",
    "name1"
   ]
  },
  {
   "cell_type": "code",
   "execution_count": null,
   "metadata": {},
   "outputs": [],
   "source": [
    "#inventation concept\n",
    "for i in range(1,12):\n",
    "    print(\"value of i \"+str(i))\n",
    "print(\"for loop complitated\")"
   ]
  },
  {
   "cell_type": "code",
   "execution_count": null,
   "metadata": {},
   "outputs": [],
   "source": [
    "for x in range(1,5):\n",
    "    print(\"the number of{}squre nu is{} and cube nu is{}\".format(x,x*x,x*x*x))\n",
    "print(\"for loop competated\")"
   ]
  },
  {
   "cell_type": "code",
   "execution_count": null,
   "metadata": {},
   "outputs": [],
   "source": [
    "#function\n",
    "#1. no arug and no return type\n",
    "def add():\n",
    "    print('enter a two num')\n",
    "    var1 =int(input())\n",
    "    var2 =int(input())\n",
    "    var3 =var1+var2\n",
    "    print(var3) "
   ]
  },
  {
   "cell_type": "code",
   "execution_count": null,
   "metadata": {},
   "outputs": [],
   "source": [
    "#2.no argu return type\n",
    "def add():\n",
    "    print('enter a two num')\n",
    "    var1 =int(input())\n",
    "    var2 =int(input())\n",
    "    var3 =var1+var2\n",
    "    return(var3)"
   ]
  },
  {
   "cell_type": "code",
   "execution_count": null,
   "metadata": {
    "scrolled": true
   },
   "outputs": [],
   "source": [
    "#3.with argu no return type\n",
    "def add(a,b):\n",
    "    c=a+b\n",
    "    print(\"sum: \",c)\n",
    "   "
   ]
  },
  {
   "cell_type": "code",
   "execution_count": null,
   "metadata": {},
   "outputs": [],
   "source": [
    "#4.with argu with return type\n",
    "def add(a,b):\n",
    "    c=a+b\n",
    "    return(c)"
   ]
  },
  {
   "cell_type": "code",
   "execution_count": null,
   "metadata": {},
   "outputs": [],
   "source": [
    "#modual in python\n",
    "import modual"
   ]
  },
  {
   "cell_type": "code",
   "execution_count": null,
   "metadata": {},
   "outputs": [],
   "source": [
    "name =input(\"Enter a name?\")\n",
    "age =int(input(\"enter your age,{}\".format(name)))\n",
    "print(type(age))\n",
    "if(age<=18):\n",
    "    print(\"you not elagibal for a voat.you come after {} year\".format(18-age))\n",
    "else:\n",
    "    print(\"you are elegibal for a voat.{}\".format(name))"
   ]
  },
  {
   "cell_type": "code",
   "execution_count": null,
   "metadata": {},
   "outputs": [],
   "source": [
    "a=10\n",
    "while a>0:\n",
    "    print(a)\n",
    "    a-=1"
   ]
  },
  {
   "cell_type": "code",
   "execution_count": null,
   "metadata": {},
   "outputs": [],
   "source": [
    "a = 10\n",
    "while a>0:\n",
    "    a-=1\n",
    "    if(a!=5):\n",
    "        print(a)\n",
    "    else:\n",
    "        break"
   ]
  },
  {
   "cell_type": "code",
   "execution_count": null,
   "metadata": {},
   "outputs": [],
   "source": [
    "a = 10\n",
    "while a>0:\n",
    "    a-=1\n",
    "    if(a!=5):\n",
    "        print(a)\n",
    "    else:\n",
    "        continue"
   ]
  },
  {
   "cell_type": "code",
   "execution_count": null,
   "metadata": {},
   "outputs": [],
   "source": [
    "for i in range(20,1,-2):\n",
    "    print(\"the values of i:{} \".format(i))"
   ]
  },
  {
   "cell_type": "code",
   "execution_count": null,
   "metadata": {},
   "outputs": [],
   "source": [
    "number =\"my name is rumit\"\n",
    "number2=''\n",
    "print(type(number))\n",
    "for i in range(0,len(number)):\n",
    "\n",
    "        "
   ]
  },
  {
   "cell_type": "code",
   "execution_count": null,
   "metadata": {},
   "outputs": [],
   "source": [
    "available_exit ={\"east\",\"north east\",\"south\",\"west\"}\n",
    "choosen_exit =\" \"\n",
    "while choosen_exit not in available_exit:\n",
    "    choosen_exit =input(\"please enter a direction:: \")\n",
    "    if choosen_exit in \"Quit\":\n",
    "        print(\"Your Game is Over\")\n",
    "        break \n",
    "            "
   ]
  },
  {
   "cell_type": "code",
   "execution_count": null,
   "metadata": {},
   "outputs": [],
   "source": [
    "list1 =[1,2,3,4,5,6,7]\n",
    "print(list1)\n",
    "list2 =[1,'abhay','rumit',4,4.9]\n",
    "print(list2[0:3])\n",
    "print('hello ' +str(list2[-1]))\n",
    "print(list2[:])\n",
    "print(len(list2))\n",
    "print(list2)\n",
    "print(list2.append('apple'))"
   ]
  },
  {
   "cell_type": "code",
   "execution_count": null,
   "metadata": {},
   "outputs": [],
   "source": [
    "list2 =[1,'abhay','rumit',4,4.9]\n",
    "list2.append('apple')\n",
    "list2\n",
    "list2.insert(1,'davra')\n",
    "list2\n",
    "list2.remove('davra')\n",
    "list2\n",
    "list2.sort()\n",
    "list2"
   ]
  },
  {
   "cell_type": "code",
   "execution_count": null,
   "metadata": {},
   "outputs": [],
   "source": [
    "#iterators\n",
    "name =\"my name is rumit\"\n",
    "name\n",
    "for i in name:\n",
    "    print(i)"
   ]
  },
  {
   "cell_type": "code",
   "execution_count": null,
   "metadata": {},
   "outputs": [],
   "source": [
    "name =\"my name is rumit\"\n",
    "my_iterator =iter(name)\n",
    "print(my_iterator)\n",
    "for i in my_iterator:\n",
    "    print(i)"
   ]
  },
  {
   "cell_type": "code",
   "execution_count": null,
   "metadata": {},
   "outputs": [],
   "source": [
    "my_list =['mon','tue','wed','thu','fri','sat','sun']\n",
    "my_iterator =iter(my_list)\n",
    "for i in my_iterator:\n",
    "    print(i)"
   ]
  },
  {
   "cell_type": "code",
   "execution_count": null,
   "metadata": {},
   "outputs": [],
   "source": [
    "#distnaty\n",
    "my_fruit ={1:'banana',2:'mango',3:'apple',4:'papita',5:'stobary'}\n",
    "print(my_fruit[1])\n",
    "print(my_fruit[2])\n",
    "print(len(my_fruit)) \n",
    "print(my_fruit.keys())\n",
    "print(my_fruit.values())"
   ]
  },
  {
   "cell_type": "code",
   "execution_count": null,
   "metadata": {},
   "outputs": [],
   "source": [
    "my_fruit ={1:'banana',2:'mango',3:'apple',4:'papita',5:'stobary'}\n",
    "my_fruit1 ={1:'banana',2:'mango',4:'papita',5:'stobary',3:'apple'}\n",
    "my_fruit == my_fruit1 "
   ]
  },
  {
   "cell_type": "code",
   "execution_count": null,
   "metadata": {},
   "outputs": [],
   "source": [
    "birthdays ={'rumit':'22 dec','abhay':'22 march','dhaval':'1 aug'}\n",
    "\n",
    "while True:\n",
    "    print(\"enter the name : \")\n",
    "    name = input()\n",
    "    if name =='':\n",
    "        break\n",
    "        \n",
    "    if name in birthdays:\n",
    "        print(birthdays[name]+ ' is the birthday of '+name)\n",
    "    else:\n",
    "        print(\"i do not have birthday info\" + name)\n",
    "        \n",
    "        print(\"what is their birthday?\")\n",
    "        bday =input()\n",
    "        birthdays[name] =bday\n",
    "        print(\"birthday database is updated\")\n",
    "        break\n",
    "        \n",
    "    "
   ]
  },
  {
   "cell_type": "code",
   "execution_count": null,
   "metadata": {
    "scrolled": true
   },
   "outputs": [],
   "source": [
    "#numpy\n",
    "import numpy as np\n",
    "np.arange(0,11,2)\n",
    "print(np.zeros((3,3)))\n",
    "print(np.ones((3,3)))\n",
    "arr =np.random.randint(0,10000,(3,3)) \n",
    "print(arr)\n",
    "print(arr.max())\n",
    "print(arr.min())\n",
    "print(arr.argmax())\n",
    "print(arr.argmin())\n",
    "#print(arr.reshape(1,9)) \n",
    "met =np.arange(0,100).reshape(10,10)\n",
    "print(met)\n",
    "print(met[2,2])\n",
    "print(met[0,:])\n",
    "print(met[:,0])\n",
    "print(met[0:3,0:3])"
   ]
  },
  {
   "cell_type": "code",
   "execution_count": null,
   "metadata": {},
   "outputs": [],
   "source": [
    "#matplotlip\n",
    "import numpy as np\n",
    "import matplotlib.pyplot as plot\n",
    "t =np.arange(0,2,0.001)\n",
    "y =np.cos(2*np.pi*t)\n",
    "plt.plot(t,y)\n",
    "plt.title(\"cos graph\")\n",
    "plt.xlabel(\"time(sec)\")\n",
    "plt.ylabel(\"y-axies\")\n",
    "plt.grid()\n",
    "plt.show()"
   ]
  },
  {
   "cell_type": "code",
   "execution_count": null,
   "metadata": {},
   "outputs": [],
   "source": [
    "import numpy as np\n",
    "x =np.arange(0,10,2)\n",
    "y=x\n",
    "plt.plot(x,y)\n",
    "plt.title(\"line plot\")\n",
    "plt.xlabel(\"x-axies\")\n",
    "plt.ylabel(\"y-axies\")\n",
    "plt.show()"
   ]
  },
  {
   "cell_type": "code",
   "execution_count": null,
   "metadata": {},
   "outputs": [],
   "source": [
    "import numpy as np\n",
    "import matplotlib.pyplot as plot\n",
    "t =np.arange(0,2,0.001)\n",
    "y1 =np.sin(2*np.pi*t)\n",
    "y2 =np.cos(2*np.pi*t)\n",
    "plt.plot(t,y1)\n",
    "plt.plot(t,y2)\n",
    "plt.title(\"sin/cosin graph\")\n",
    "plt.xlabel(\"time(sec)\")\n",
    "plt.ylabel(\"value\")\n",
    "plt.legend(['time','values'],loc='best')\n",
    "plt.grid()\n",
    "plt.show()"
   ]
  },
  {
   "cell_type": "code",
   "execution_count": null,
   "metadata": {},
   "outputs": [],
   "source": [
    "import numpy as np\n",
    "import matplotlib.pyplot as plt\n",
    "x1 =np.linspace(0.0,5.0)\n",
    "x2 =np.linspace(0.0,2.0)\n",
    "y1 =np.cos(2*np.pi*x1)*np.exp(-x1)\n",
    "y2 =np.cos(2*np.pi*x2)\n",
    "plt.subplot(2,1,1)\n",
    "plt.plot(x1,y1,'o-')\n",
    "plt.title(\"graph1\")\n",
    "plt.subplot(2,1,2)\n",
    "plt.plot(x2,y2)\n",
    "plt.title(\"graph2\")"
   ]
  },
  {
   "cell_type": "code",
   "execution_count": null,
   "metadata": {},
   "outputs": [],
   "source": [
    "import numpy as np\n",
    "import matplotlib.pyplot as plt\n",
    "data={'apple':20,'mango':15,'orange':40,'banana':30}\n",
    "x=list(data.keys())\n",
    "y=list(data.values())\n",
    "plt.bar(x,y,color=['green','blue'])\n",
    "plt.show()"
   ]
  },
  {
   "cell_type": "code",
   "execution_count": null,
   "metadata": {},
   "outputs": [],
   "source": [
    "import matplotlib.pyplot as plt\n",
    "ages =[2,15,16,1,8,45,50,45,34,21,22,26,55,60,80,85,34,38,40,42,59]\n",
    "rang =[0,10,20,30,40,50,60,70,80,90,100]\n",
    "plt.hist(ages,rang)\n",
    "plt.xlabel('ages')\n",
    "plt.ylabel('bins')\n",
    "plt.title('histogram plot')\n",
    "plt.show()"
   ]
  },
  {
   "cell_type": "code",
   "execution_count": null,
   "metadata": {},
   "outputs": [],
   "source": [
    "#Pie chart\n",
    "label =['apples','banana','papita','mango']\n",
    "ave_shoke =[20,40,30,10]\n",
    "color =['r','b','y','g']\n",
    "plt.pie(ave_shoke,labels=label,colors=color,shadow=True,startangle =90,explode=(0.2,0,0,0.1),autopct ='%1.2f%%')\n",
    "plt.legend()\n",
    "plt.show()"
   ]
  },
  {
   "cell_type": "code",
   "execution_count": null,
   "metadata": {},
   "outputs": [],
   "source": [
    "#make sin and cosin function\n",
    "x =np.arange(0,1,0.05)\n",
    "y1 =np.cos(2*np.pi*x)\n",
    "y2 =np.sin(2*np.pi*x)\n",
    "plt.plot(x,y1,label ='sin')\n",
    "plt.plot(x,y2,label ='cos')\n",
    "plt.title(\"sine and cosin function\")\n",
    "plt.xlabel(\"time\")\n",
    "plt.ylabel(\"amplitude\")\n",
    "plt.legend()\n",
    "plt.grid()\n",
    "plt.show()"
   ]
  },
  {
   "cell_type": "code",
   "execution_count": null,
   "metadata": {
    "scrolled": true
   },
   "outputs": [],
   "source": [
    "#live plot\n",
    "import matplotlib.animation as animation\n",
    "from matplotlib import style\n",
    "import matplotlib.pyplot as plt\n",
    "\n",
    "plt.style.use('fivethirtyeight')\n",
    "\n",
    "fig1 = plt.figure()\n",
    "\n",
    "ax1 = fig1.add_subplot(1,1,1)\n",
    "\n",
    "def animate(p):\n",
    "    plot_data = open('live.txt','r').read()\n",
    "\n",
    "    line_data = plot_data.split('\\n')\n",
    "    x1=[]\n",
    "    y1=[]\n",
    "\n",
    "    for line in line_data:\n",
    "        if len(line)>1:\n",
    "            x,y = line.split(',')\n",
    "            x1.append(x)\n",
    "            y1.append(y)\n",
    "\n",
    "\n",
    "        ax1.clear()\n",
    "        ax1.plot(x1,y1)\n",
    "\n",
    "anime_data = animation.FuncAnimation(fig1, animate, interval = 500)\n",
    "\n",
    "plt.show()"
   ]
  },
  {
   "cell_type": "code",
   "execution_count": null,
   "metadata": {},
   "outputs": [],
   "source": [
    "import pandas as pd\n",
    "import numpy as np\n",
    "my_fruit ={1:'banana',2:'mango',3:'apple',4:'papita',5:'stobary'}\n",
    "pd.Series(my_fruit)"
   ]
  },
  {
   "cell_type": "code",
   "execution_count": null,
   "metadata": {},
   "outputs": [],
   "source": [
    "reg =[True,False,True,False,False]\n",
    "pd.Series(reg,index=['a','b','c','d','e'])"
   ]
  },
  {
   "cell_type": "code",
   "execution_count": null,
   "metadata": {},
   "outputs": [],
   "source": [
    "#pandas attributes\n",
    "Men =['smart','handsome','charming','brilliant','humble']\n",
    "s =pd.Series(Men) \n",
    "s"
   ]
  },
  {
   "cell_type": "code",
   "execution_count": null,
   "metadata": {},
   "outputs": [],
   "source": [
    "print(s.values)\n",
    "print(s.index)\n",
    "print(s.dtype)"
   ]
  },
  {
   "cell_type": "code",
   "execution_count": null,
   "metadata": {},
   "outputs": [],
   "source": [
    "#mathods,parameter and arguments\n",
    "import pandas as pd\n",
    "many_bank =[100,200,300,400,500,600,700,800,900,1000]\n",
    "r =pd.Series(many_bank)\n",
    "print(r)\n",
    "print(r.sum())\n",
    "print(r.product())\n",
    "print(r.mean())\n",
    "print(r.median())"
   ]
  },
  {
   "cell_type": "code",
   "execution_count": null,
   "metadata": {},
   "outputs": [],
   "source": [
    "my_list =['mon','tue','wed','thu','fri']\n",
    "men =['smart','handsome','charming','brilliant','humble']\n",
    "pd.Series(men,my_list)\n",
    "pd.Series(men,index=my_list)"
   ]
  },
  {
   "cell_type": "code",
   "execution_count": null,
   "metadata": {},
   "outputs": [],
   "source": [
    "import pandas as pd\n",
    "cars =pd.read_csv(\"mtcars.csv\")"
   ]
  },
  {
   "cell_type": "code",
   "execution_count": null,
   "metadata": {},
   "outputs": [],
   "source": [
    "cars.head(12)"
   ]
  },
  {
   "cell_type": "code",
   "execution_count": null,
   "metadata": {},
   "outputs": [],
   "source": [
    "cars.tail(7)"
   ]
  },
  {
   "cell_type": "code",
   "execution_count": null,
   "metadata": {},
   "outputs": [],
   "source": [
    "cars.values"
   ]
  },
  {
   "cell_type": "code",
   "execution_count": null,
   "metadata": {},
   "outputs": [],
   "source": [
    "cars.index"
   ]
  },
  {
   "cell_type": "code",
   "execution_count": null,
   "metadata": {},
   "outputs": [],
   "source": [
    "import pandas as pd\n",
    "cars =pd.read_csv(\"mtcars.csv\",usecols=[\"hp\"],squeeze=True)\n",
    "cars\n",
    "cars.dtype"
   ]
  },
  {
   "cell_type": "code",
   "execution_count": null,
   "metadata": {},
   "outputs": [],
   "source": [
    "cars.is_unique"
   ]
  },
  {
   "cell_type": "code",
   "execution_count": null,
   "metadata": {},
   "outputs": [],
   "source": [
    "cars.ndim"
   ]
  },
  {
   "cell_type": "code",
   "execution_count": null,
   "metadata": {},
   "outputs": [],
   "source": [
    "cars.shape"
   ]
  },
  {
   "cell_type": "code",
   "execution_count": null,
   "metadata": {
    "scrolled": true
   },
   "outputs": [],
   "source": [
    "cars.size"
   ]
  },
  {
   "cell_type": "code",
   "execution_count": null,
   "metadata": {},
   "outputs": [],
   "source": [
    "cars.name"
   ]
  },
  {
   "cell_type": "code",
   "execution_count": null,
   "metadata": {},
   "outputs": [],
   "source": [
    "cars.sort_values().head(10)\n",
    "cars.sort_values(ascending=False).tail()"
   ]
  },
  {
   "cell_type": "code",
   "execution_count": null,
   "metadata": {},
   "outputs": [],
   "source": [
    "#inplace mathod\n",
    "cars =cars.sort_values(ascending =False,inplace=True)\n",
    "cars.head()"
   ]
  },
  {
   "cell_type": "code",
   "execution_count": null,
   "metadata": {},
   "outputs": [],
   "source": [
    "import pandas as pd\n",
    "cars =pd.read_csv(\"datasets_557629_1251354_HospitalBedsIndia.csv\",usecols=[\"State/UT\"].)\n",
    "cars.head()"
   ]
  },
  {
   "cell_type": "code",
   "execution_count": null,
   "metadata": {},
   "outputs": [],
   "source": [
    "cars.describe()"
   ]
  },
  {
   "cell_type": "code",
   "execution_count": null,
   "metadata": {},
   "outputs": [],
   "source": [
    "cars=cars.drop(columns=['mpg'])\n",
    "cars"
   ]
  },
  {
   "cell_type": "code",
   "execution_count": null,
   "metadata": {},
   "outputs": [],
   "source": [
    "import pandas as pd\n",
    "cars =pd.read_csv(\"mtcars.csv\",usecols=[\"hp\"])\n",
    "cars.head()"
   ]
  },
  {
   "cell_type": "code",
   "execution_count": null,
   "metadata": {},
   "outputs": [],
   "source": [
    "import pandas as pd\n",
    "cars =pd.read_csv(\"datasets_557629_1251354_HospitalBedsIndia.csv\",usecols=[\"State/UT\"],squeeze=True)\n",
    "cars.head()\n",
    "cars.sort_values(ascending=False,inplace=False)\n",
    "cars"
   ]
  },
  {
   "cell_type": "code",
   "execution_count": null,
   "metadata": {},
   "outputs": [],
   "source": [
    "cars[[16,26]]"
   ]
  },
  {
   "cell_type": "code",
   "execution_count": null,
   "metadata": {},
   "outputs": [],
   "source": [
    "import pandas as pd\n",
    "cars =pd.read_csv(\"datasets_557629_1251354_HospitalBedsIndia.csv\",squeeze=True)\n",
    "#print(cars.head())\n",
    "#print(cars.iloc[:,4])\n",
    "print(cars.iloc[0:3])"
   ]
  },
  {
   "cell_type": "code",
   "execution_count": null,
   "metadata": {},
   "outputs": [],
   "source": [
    "import pandas as pd\n",
    "cars =pd.read_csv(\"datasets_557629_1251354_HospitalBedsIndia.csv\",usecols=[\"State/UT\"],squeeze=True)\n",
    "\n",
    "cars.sort_values(ascending=False,inplace=False)\n",
    "print(cars.head())\n",
    "cars.get()"
   ]
  },
  {
   "cell_type": "code",
   "execution_count": null,
   "metadata": {},
   "outputs": [],
   "source": [
    "import pandas as pd\n",
    "cars =pd.read_csv(\"mtcars.csv\",usecols=[\"hp\"])\n",
    "cars.head()\n",
    "print(cars.idxmax())\n",
    "print(cars.idxmin())"
   ]
  },
  {
   "cell_type": "code",
   "execution_count": null,
   "metadata": {},
   "outputs": [],
   "source": []
  },
  {
   "cell_type": "code",
   "execution_count": null,
   "metadata": {},
   "outputs": [],
   "source": [
    "import pandas as pd\n",
    "cars =pd.read_csv(\"mtcars.csv\")\n",
    "print(cars.head())\n",
    "print(cars['hp']+50)\n",
    "print(cars['hp']-50)\n",
    "print(cars['hp']*50)\n",
    "cars['new_hp'] =cars['hp']*50\n",
    "print(cars.head())"
   ]
  },
  {
   "cell_type": "code",
   "execution_count": null,
   "metadata": {},
   "outputs": [],
   "source": [
    "cars =pd.read_csv(\"mtcars.csv\",usecols=[\"hp\"])\n",
    "cars.head()\n",
    "def function():\n",
    "    if hp>50:\n",
    "        return \"ok\"\n",
    "    elif hp>=100 and number<=90:\n",
    "        return \"in between\"\n",
    "    else:\n",
    "        return \"fine\"\n",
    "    \n",
    "cars.apply(function)    "
   ]
  },
  {
   "cell_type": "code",
   "execution_count": 3,
   "metadata": {},
   "outputs": [
    {
     "data": {
      "text/html": [
       "<div>\n",
       "<style scoped>\n",
       "    .dataframe tbody tr th:only-of-type {\n",
       "        vertical-align: middle;\n",
       "    }\n",
       "\n",
       "    .dataframe tbody tr th {\n",
       "        vertical-align: top;\n",
       "    }\n",
       "\n",
       "    .dataframe thead th {\n",
       "        text-align: right;\n",
       "    }\n",
       "</style>\n",
       "<table border=\"1\" class=\"dataframe\">\n",
       "  <thead>\n",
       "    <tr style=\"text-align: right;\">\n",
       "      <th></th>\n",
       "      <th>case_type</th>\n",
       "      <th>cases</th>\n",
       "      <th>difference</th>\n",
       "      <th>date</th>\n",
       "      <th>country_region</th>\n",
       "      <th>province_state</th>\n",
       "      <th>admin2</th>\n",
       "      <th>combined_key</th>\n",
       "      <th>fips</th>\n",
       "      <th>lat</th>\n",
       "      <th>long</th>\n",
       "      <th>table_names</th>\n",
       "      <th>prep_flow_runtime</th>\n",
       "      <th>location</th>\n",
       "    </tr>\n",
       "  </thead>\n",
       "  <tbody>\n",
       "    <tr>\n",
       "      <th>0</th>\n",
       "      <td>Confirmed</td>\n",
       "      <td>319</td>\n",
       "      <td>1</td>\n",
       "      <td>2020-04-11</td>\n",
       "      <td>Mauritius</td>\n",
       "      <td>NaN</td>\n",
       "      <td>NaN</td>\n",
       "      <td>NaN</td>\n",
       "      <td>NaN</td>\n",
       "      <td>-20.2000</td>\n",
       "      <td>57.5000</td>\n",
       "      <td>Time Series</td>\n",
       "      <td>2020-04-13T21:18:41</td>\n",
       "      <td>POINT(57.5 -20.2)</td>\n",
       "    </tr>\n",
       "    <tr>\n",
       "      <th>1</th>\n",
       "      <td>Deaths</td>\n",
       "      <td>0</td>\n",
       "      <td>0</td>\n",
       "      <td>2020-02-27</td>\n",
       "      <td>Bahamas</td>\n",
       "      <td>NaN</td>\n",
       "      <td>NaN</td>\n",
       "      <td>NaN</td>\n",
       "      <td>NaN</td>\n",
       "      <td>25.0343</td>\n",
       "      <td>-77.3963</td>\n",
       "      <td>Time Series</td>\n",
       "      <td>2020-04-13T21:18:41</td>\n",
       "      <td>POINT(-77.3963 25.0343)</td>\n",
       "    </tr>\n",
       "    <tr>\n",
       "      <th>2</th>\n",
       "      <td>Confirmed</td>\n",
       "      <td>16</td>\n",
       "      <td>0</td>\n",
       "      <td>2020-02-16</td>\n",
       "      <td>Germany</td>\n",
       "      <td>NaN</td>\n",
       "      <td>NaN</td>\n",
       "      <td>NaN</td>\n",
       "      <td>NaN</td>\n",
       "      <td>51.0000</td>\n",
       "      <td>9.0000</td>\n",
       "      <td>Time Series</td>\n",
       "      <td>2020-04-13T21:18:41</td>\n",
       "      <td>POINT(9 51)</td>\n",
       "    </tr>\n",
       "    <tr>\n",
       "      <th>3</th>\n",
       "      <td>Deaths</td>\n",
       "      <td>0</td>\n",
       "      <td>0</td>\n",
       "      <td>2020-01-31</td>\n",
       "      <td>Canada</td>\n",
       "      <td>Alberta</td>\n",
       "      <td>NaN</td>\n",
       "      <td>NaN</td>\n",
       "      <td>NaN</td>\n",
       "      <td>53.9333</td>\n",
       "      <td>-116.5765</td>\n",
       "      <td>Time Series</td>\n",
       "      <td>2020-04-13T21:18:41</td>\n",
       "      <td>POINT(-116.5765 53.9333)</td>\n",
       "    </tr>\n",
       "    <tr>\n",
       "      <th>4</th>\n",
       "      <td>Deaths</td>\n",
       "      <td>0</td>\n",
       "      <td>0</td>\n",
       "      <td>2020-03-04</td>\n",
       "      <td>Australia</td>\n",
       "      <td>Queensland</td>\n",
       "      <td>NaN</td>\n",
       "      <td>NaN</td>\n",
       "      <td>NaN</td>\n",
       "      <td>-28.0167</td>\n",
       "      <td>153.4000</td>\n",
       "      <td>Time Series</td>\n",
       "      <td>2020-04-13T21:18:41</td>\n",
       "      <td>POINT(153.4 -28.0167)</td>\n",
       "    </tr>\n",
       "  </tbody>\n",
       "</table>\n",
       "</div>"
      ],
      "text/plain": [
       "   case_type  cases  difference        date country_region province_state  \\\n",
       "0  Confirmed    319           1  2020-04-11      Mauritius            NaN   \n",
       "1     Deaths      0           0  2020-02-27        Bahamas            NaN   \n",
       "2  Confirmed     16           0  2020-02-16        Germany            NaN   \n",
       "3     Deaths      0           0  2020-01-31         Canada        Alberta   \n",
       "4     Deaths      0           0  2020-03-04      Australia     Queensland   \n",
       "\n",
       "  admin2 combined_key  fips      lat      long  table_names  \\\n",
       "0    NaN          NaN   NaN -20.2000   57.5000  Time Series   \n",
       "1    NaN          NaN   NaN  25.0343  -77.3963  Time Series   \n",
       "2    NaN          NaN   NaN  51.0000    9.0000  Time Series   \n",
       "3    NaN          NaN   NaN  53.9333 -116.5765  Time Series   \n",
       "4    NaN          NaN   NaN -28.0167  153.4000  Time Series   \n",
       "\n",
       "     prep_flow_runtime                  location  \n",
       "0  2020-04-13T21:18:41         POINT(57.5 -20.2)  \n",
       "1  2020-04-13T21:18:41   POINT(-77.3963 25.0343)  \n",
       "2  2020-04-13T21:18:41               POINT(9 51)  \n",
       "3  2020-04-13T21:18:41  POINT(-116.5765 53.9333)  \n",
       "4  2020-04-13T21:18:41     POINT(153.4 -28.0167)  "
      ]
     },
     "execution_count": 3,
     "metadata": {},
     "output_type": "execute_result"
    }
   ],
   "source": [
    "import pandas as pd\n",
    "cases=pd.read_csv(\"cases.csv\")\n",
    "cases.head()"
   ]
  },
  {
   "cell_type": "code",
   "execution_count": 3,
   "metadata": {},
   "outputs": [
    {
     "data": {
      "text/plain": [
       "0         Mauritius\n",
       "1           Bahamas\n",
       "2           Germany\n",
       "3            Canada\n",
       "4         Australia\n",
       "            ...    \n",
       "582655           US\n",
       "582656           US\n",
       "582657           US\n",
       "582658           US\n",
       "582659           US\n",
       "Name: country_region, Length: 582660, dtype: object"
      ]
     },
     "execution_count": 3,
     "metadata": {},
     "output_type": "execute_result"
    }
   ],
   "source": [
    "cases=pd.read_csv(\"cases.csv\",usecols=[\"country_region\"],squeeze=True)\n",
    "cases.tail()\n",
    "cases.sort_values(ascending=True,inplace=False)\n",
    "cases"
   ]
  },
  {
   "cell_type": "code",
   "execution_count": 4,
   "metadata": {},
   "outputs": [
    {
     "data": {
      "text/plain": [
       "20                   China\n",
       "21              Mozambique\n",
       "22               Argentina\n",
       "23    United Arab Emirates\n",
       "24                   China\n",
       "25                Honduras\n",
       "26                   Malta\n",
       "27                   Gabon\n",
       "28                   China\n",
       "29          United Kingdom\n",
       "Name: country_region, dtype: object"
      ]
     },
     "execution_count": 4,
     "metadata": {},
     "output_type": "execute_result"
    }
   ],
   "source": [
    "cases[20:30]"
   ]
  },
  {
   "cell_type": "code",
   "execution_count": 4,
   "metadata": {},
   "outputs": [
    {
     "data": {
      "text/html": [
       "<div>\n",
       "<style scoped>\n",
       "    .dataframe tbody tr th:only-of-type {\n",
       "        vertical-align: middle;\n",
       "    }\n",
       "\n",
       "    .dataframe tbody tr th {\n",
       "        vertical-align: top;\n",
       "    }\n",
       "\n",
       "    .dataframe thead th {\n",
       "        text-align: right;\n",
       "    }\n",
       "</style>\n",
       "<table border=\"1\" class=\"dataframe\">\n",
       "  <thead>\n",
       "    <tr style=\"text-align: right;\">\n",
       "      <th></th>\n",
       "      <th>case_type</th>\n",
       "      <th>cases</th>\n",
       "      <th>difference</th>\n",
       "      <th>date</th>\n",
       "      <th>country_region</th>\n",
       "      <th>province_state</th>\n",
       "      <th>admin2</th>\n",
       "      <th>combined_key</th>\n",
       "      <th>fips</th>\n",
       "      <th>lat</th>\n",
       "      <th>long</th>\n",
       "      <th>table_names</th>\n",
       "      <th>prep_flow_runtime</th>\n",
       "      <th>location</th>\n",
       "    </tr>\n",
       "  </thead>\n",
       "  <tbody>\n",
       "    <tr>\n",
       "      <th>0</th>\n",
       "      <td>Confirmed</td>\n",
       "      <td>319</td>\n",
       "      <td>1</td>\n",
       "      <td>2020-04-11</td>\n",
       "      <td>Mauritius</td>\n",
       "      <td>NaN</td>\n",
       "      <td>NaN</td>\n",
       "      <td>NaN</td>\n",
       "      <td>NaN</td>\n",
       "      <td>-20.200000</td>\n",
       "      <td>57.500000</td>\n",
       "      <td>Time Series</td>\n",
       "      <td>2020-04-13T21:18:41</td>\n",
       "      <td>POINT(57.5 -20.2)</td>\n",
       "    </tr>\n",
       "    <tr>\n",
       "      <th>1</th>\n",
       "      <td>Deaths</td>\n",
       "      <td>0</td>\n",
       "      <td>0</td>\n",
       "      <td>2020-02-27</td>\n",
       "      <td>Bahamas</td>\n",
       "      <td>NaN</td>\n",
       "      <td>NaN</td>\n",
       "      <td>NaN</td>\n",
       "      <td>NaN</td>\n",
       "      <td>25.034300</td>\n",
       "      <td>-77.396300</td>\n",
       "      <td>Time Series</td>\n",
       "      <td>2020-04-13T21:18:41</td>\n",
       "      <td>POINT(-77.3963 25.0343)</td>\n",
       "    </tr>\n",
       "    <tr>\n",
       "      <th>2</th>\n",
       "      <td>Confirmed</td>\n",
       "      <td>16</td>\n",
       "      <td>0</td>\n",
       "      <td>2020-02-16</td>\n",
       "      <td>Germany</td>\n",
       "      <td>NaN</td>\n",
       "      <td>NaN</td>\n",
       "      <td>NaN</td>\n",
       "      <td>NaN</td>\n",
       "      <td>51.000000</td>\n",
       "      <td>9.000000</td>\n",
       "      <td>Time Series</td>\n",
       "      <td>2020-04-13T21:18:41</td>\n",
       "      <td>POINT(9 51)</td>\n",
       "    </tr>\n",
       "    <tr>\n",
       "      <th>3</th>\n",
       "      <td>Deaths</td>\n",
       "      <td>0</td>\n",
       "      <td>0</td>\n",
       "      <td>2020-01-31</td>\n",
       "      <td>Canada</td>\n",
       "      <td>Alberta</td>\n",
       "      <td>NaN</td>\n",
       "      <td>NaN</td>\n",
       "      <td>NaN</td>\n",
       "      <td>53.933300</td>\n",
       "      <td>-116.576500</td>\n",
       "      <td>Time Series</td>\n",
       "      <td>2020-04-13T21:18:41</td>\n",
       "      <td>POINT(-116.5765 53.9333)</td>\n",
       "    </tr>\n",
       "    <tr>\n",
       "      <th>4</th>\n",
       "      <td>Deaths</td>\n",
       "      <td>0</td>\n",
       "      <td>0</td>\n",
       "      <td>2020-03-04</td>\n",
       "      <td>Australia</td>\n",
       "      <td>Queensland</td>\n",
       "      <td>NaN</td>\n",
       "      <td>NaN</td>\n",
       "      <td>NaN</td>\n",
       "      <td>-28.016700</td>\n",
       "      <td>153.400000</td>\n",
       "      <td>Time Series</td>\n",
       "      <td>2020-04-13T21:18:41</td>\n",
       "      <td>POINT(153.4 -28.0167)</td>\n",
       "    </tr>\n",
       "    <tr>\n",
       "      <th>...</th>\n",
       "      <td>...</td>\n",
       "      <td>...</td>\n",
       "      <td>...</td>\n",
       "      <td>...</td>\n",
       "      <td>...</td>\n",
       "      <td>...</td>\n",
       "      <td>...</td>\n",
       "      <td>...</td>\n",
       "      <td>...</td>\n",
       "      <td>...</td>\n",
       "      <td>...</td>\n",
       "      <td>...</td>\n",
       "      <td>...</td>\n",
       "      <td>...</td>\n",
       "    </tr>\n",
       "    <tr>\n",
       "      <th>582655</th>\n",
       "      <td>Deaths</td>\n",
       "      <td>0</td>\n",
       "      <td>0</td>\n",
       "      <td>2020-01-22</td>\n",
       "      <td>US</td>\n",
       "      <td>Mississippi</td>\n",
       "      <td>Hancock</td>\n",
       "      <td>Hancock, Mississippi, US</td>\n",
       "      <td>28045.0</td>\n",
       "      <td>30.418302</td>\n",
       "      <td>-89.488510</td>\n",
       "      <td>Time Series</td>\n",
       "      <td>2020-04-13T21:18:41</td>\n",
       "      <td>POINT(-89.48851033 30.41830223)</td>\n",
       "    </tr>\n",
       "    <tr>\n",
       "      <th>582656</th>\n",
       "      <td>Confirmed</td>\n",
       "      <td>0</td>\n",
       "      <td>0</td>\n",
       "      <td>2020-01-22</td>\n",
       "      <td>US</td>\n",
       "      <td>Alabama</td>\n",
       "      <td>Etowah</td>\n",
       "      <td>Etowah, Alabama, US</td>\n",
       "      <td>1055.0</td>\n",
       "      <td>34.045673</td>\n",
       "      <td>-86.040519</td>\n",
       "      <td>Time Series</td>\n",
       "      <td>2020-04-13T21:18:41</td>\n",
       "      <td>POINT(-86.04051873 34.04567266)</td>\n",
       "    </tr>\n",
       "    <tr>\n",
       "      <th>582657</th>\n",
       "      <td>Confirmed</td>\n",
       "      <td>0</td>\n",
       "      <td>0</td>\n",
       "      <td>2020-01-22</td>\n",
       "      <td>US</td>\n",
       "      <td>Tennessee</td>\n",
       "      <td>Montgomery</td>\n",
       "      <td>Montgomery, Tennessee, US</td>\n",
       "      <td>47125.0</td>\n",
       "      <td>36.496094</td>\n",
       "      <td>-87.385507</td>\n",
       "      <td>Time Series</td>\n",
       "      <td>2020-04-13T21:18:41</td>\n",
       "      <td>POINT(-87.38550661 36.49609412)</td>\n",
       "    </tr>\n",
       "    <tr>\n",
       "      <th>582658</th>\n",
       "      <td>Deaths</td>\n",
       "      <td>0</td>\n",
       "      <td>0</td>\n",
       "      <td>2020-01-22</td>\n",
       "      <td>US</td>\n",
       "      <td>Louisiana</td>\n",
       "      <td>Lincoln</td>\n",
       "      <td>Lincoln, Louisiana, US</td>\n",
       "      <td>22061.0</td>\n",
       "      <td>32.600315</td>\n",
       "      <td>-92.665974</td>\n",
       "      <td>Time Series</td>\n",
       "      <td>2020-04-13T21:18:41</td>\n",
       "      <td>POINT(-92.6659741 32.6003154)</td>\n",
       "    </tr>\n",
       "    <tr>\n",
       "      <th>582659</th>\n",
       "      <td>Deaths</td>\n",
       "      <td>0</td>\n",
       "      <td>0</td>\n",
       "      <td>2020-01-22</td>\n",
       "      <td>US</td>\n",
       "      <td>New Jersey</td>\n",
       "      <td>Warren</td>\n",
       "      <td>Warren, New Jersey, US</td>\n",
       "      <td>34041.0</td>\n",
       "      <td>40.859518</td>\n",
       "      <td>-74.995565</td>\n",
       "      <td>Time Series</td>\n",
       "      <td>2020-04-13T21:18:41</td>\n",
       "      <td>POINT(-74.99556527 40.85951833)</td>\n",
       "    </tr>\n",
       "  </tbody>\n",
       "</table>\n",
       "<p>582660 rows × 14 columns</p>\n",
       "</div>"
      ],
      "text/plain": [
       "        case_type  cases  difference        date country_region  \\\n",
       "0       Confirmed    319           1  2020-04-11      Mauritius   \n",
       "1          Deaths      0           0  2020-02-27        Bahamas   \n",
       "2       Confirmed     16           0  2020-02-16        Germany   \n",
       "3          Deaths      0           0  2020-01-31         Canada   \n",
       "4          Deaths      0           0  2020-03-04      Australia   \n",
       "...           ...    ...         ...         ...            ...   \n",
       "582655     Deaths      0           0  2020-01-22             US   \n",
       "582656  Confirmed      0           0  2020-01-22             US   \n",
       "582657  Confirmed      0           0  2020-01-22             US   \n",
       "582658     Deaths      0           0  2020-01-22             US   \n",
       "582659     Deaths      0           0  2020-01-22             US   \n",
       "\n",
       "       province_state      admin2               combined_key     fips  \\\n",
       "0                 NaN         NaN                        NaN      NaN   \n",
       "1                 NaN         NaN                        NaN      NaN   \n",
       "2                 NaN         NaN                        NaN      NaN   \n",
       "3             Alberta         NaN                        NaN      NaN   \n",
       "4          Queensland         NaN                        NaN      NaN   \n",
       "...               ...         ...                        ...      ...   \n",
       "582655    Mississippi     Hancock   Hancock, Mississippi, US  28045.0   \n",
       "582656        Alabama      Etowah        Etowah, Alabama, US   1055.0   \n",
       "582657      Tennessee  Montgomery  Montgomery, Tennessee, US  47125.0   \n",
       "582658      Louisiana     Lincoln     Lincoln, Louisiana, US  22061.0   \n",
       "582659     New Jersey      Warren     Warren, New Jersey, US  34041.0   \n",
       "\n",
       "              lat        long  table_names    prep_flow_runtime  \\\n",
       "0      -20.200000   57.500000  Time Series  2020-04-13T21:18:41   \n",
       "1       25.034300  -77.396300  Time Series  2020-04-13T21:18:41   \n",
       "2       51.000000    9.000000  Time Series  2020-04-13T21:18:41   \n",
       "3       53.933300 -116.576500  Time Series  2020-04-13T21:18:41   \n",
       "4      -28.016700  153.400000  Time Series  2020-04-13T21:18:41   \n",
       "...           ...         ...          ...                  ...   \n",
       "582655  30.418302  -89.488510  Time Series  2020-04-13T21:18:41   \n",
       "582656  34.045673  -86.040519  Time Series  2020-04-13T21:18:41   \n",
       "582657  36.496094  -87.385507  Time Series  2020-04-13T21:18:41   \n",
       "582658  32.600315  -92.665974  Time Series  2020-04-13T21:18:41   \n",
       "582659  40.859518  -74.995565  Time Series  2020-04-13T21:18:41   \n",
       "\n",
       "                               location  \n",
       "0                     POINT(57.5 -20.2)  \n",
       "1               POINT(-77.3963 25.0343)  \n",
       "2                           POINT(9 51)  \n",
       "3              POINT(-116.5765 53.9333)  \n",
       "4                 POINT(153.4 -28.0167)  \n",
       "...                                 ...  \n",
       "582655  POINT(-89.48851033 30.41830223)  \n",
       "582656  POINT(-86.04051873 34.04567266)  \n",
       "582657  POINT(-87.38550661 36.49609412)  \n",
       "582658    POINT(-92.6659741 32.6003154)  \n",
       "582659  POINT(-74.99556527 40.85951833)  \n",
       "\n",
       "[582660 rows x 14 columns]"
      ]
     },
     "execution_count": 4,
     "metadata": {},
     "output_type": "execute_result"
    }
   ],
   "source": [
    "cases=pd.read_csv(\"cases.csv\",squeeze=True)\n",
    "cases"
   ]
  },
  {
   "cell_type": "code",
   "execution_count": 6,
   "metadata": {},
   "outputs": [
    {
     "name": "stdout",
     "output_type": "stream",
     "text": [
      "<class 'pandas.core.frame.DataFrame'>\n",
      "RangeIndex: 582660 entries, 0 to 582659\n",
      "Data columns (total 14 columns):\n",
      " #   Column             Non-Null Count   Dtype  \n",
      "---  ------             --------------   -----  \n",
      " 0   case_type          582660 non-null  object \n",
      " 1   cases              582660 non-null  int64  \n",
      " 2   difference         582660 non-null  int64  \n",
      " 3   date               582660 non-null  object \n",
      " 4   country_region     582660 non-null  object \n",
      " 5   province_state     552780 non-null  object \n",
      " 6   admin2             538836 non-null  object \n",
      " 7   combined_key       539666 non-null  object \n",
      " 8   fips               522402 non-null  float64\n",
      " 9   lat                582494 non-null  float64\n",
      " 10  long               582494 non-null  float64\n",
      " 11  table_names        582660 non-null  object \n",
      " 12  prep_flow_runtime  582660 non-null  object \n",
      " 13  location           582494 non-null  object \n",
      "dtypes: float64(3), int64(2), object(9)\n",
      "memory usage: 62.2+ MB\n"
     ]
    }
   ],
   "source": [
    "cases.info()"
   ]
  },
  {
   "cell_type": "code",
   "execution_count": 7,
   "metadata": {},
   "outputs": [
    {
     "data": {
      "text/plain": [
       "(582660, 14)"
      ]
     },
     "execution_count": 7,
     "metadata": {},
     "output_type": "execute_result"
    }
   ],
   "source": [
    "cases.shape"
   ]
  },
  {
   "cell_type": "code",
   "execution_count": 11,
   "metadata": {},
   "outputs": [
    {
     "data": {
      "text/plain": [
       "case_type                      Confirmed\n",
       "cases                                  0\n",
       "difference                         -1314\n",
       "date                          2020-01-22\n",
       "country_region               Afghanistan\n",
       "fips                                  60\n",
       "lat                             -51.7963\n",
       "long                            -170.132\n",
       "table_names                  Time Series\n",
       "prep_flow_runtime    2020-04-13T21:18:41\n",
       "dtype: object"
      ]
     },
     "execution_count": 11,
     "metadata": {},
     "output_type": "execute_result"
    }
   ],
   "source": [
    "cases.min()"
   ]
  },
  {
   "cell_type": "code",
   "execution_count": 9,
   "metadata": {},
   "outputs": [
    {
     "data": {
      "text/plain": [
       "case_type                         Deaths\n",
       "cases                             170099\n",
       "difference                         25615\n",
       "date                          2020-04-13\n",
       "country_region                  Zimbabwe\n",
       "fips                               56045\n",
       "lat                              71.7069\n",
       "long                             178.065\n",
       "table_names                  Time Series\n",
       "prep_flow_runtime    2020-04-13T21:18:41\n",
       "dtype: object"
      ]
     },
     "execution_count": 9,
     "metadata": {},
     "output_type": "execute_result"
    }
   ],
   "source": [
    "cases.max()"
   ]
  },
  {
   "cell_type": "code",
   "execution_count": 12,
   "metadata": {},
   "outputs": [
    {
     "ename": "IndexingError",
     "evalue": "Too many indexers",
     "output_type": "error",
     "traceback": [
      "\u001b[1;31m---------------------------------------------------------------------------\u001b[0m",
      "\u001b[1;31mIndexingError\u001b[0m                             Traceback (most recent call last)",
      "\u001b[1;32m<ipython-input-12-aad1dd6ac55e>\u001b[0m in \u001b[0;36m<module>\u001b[1;34m\u001b[0m\n\u001b[1;32m----> 1\u001b[1;33m \u001b[0mp\u001b[0m\u001b[1;33m=\u001b[0m\u001b[0mcases\u001b[0m\u001b[1;33m.\u001b[0m\u001b[0miloc\u001b[0m\u001b[1;33m[\u001b[0m\u001b[1;33m:\u001b[0m\u001b[1;33m,\u001b[0m\u001b[1;36m1\u001b[0m\u001b[1;33m]\u001b[0m\u001b[1;33m\u001b[0m\u001b[1;33m\u001b[0m\u001b[0m\n\u001b[0m\u001b[0;32m      2\u001b[0m \u001b[0mprint\u001b[0m\u001b[1;33m(\u001b[0m\u001b[0mp\u001b[0m\u001b[1;33m.\u001b[0m\u001b[0mhead\u001b[0m\u001b[1;33m(\u001b[0m\u001b[1;33m)\u001b[0m\u001b[1;33m)\u001b[0m\u001b[1;33m\u001b[0m\u001b[1;33m\u001b[0m\u001b[0m\n",
      "\u001b[1;32mc:\\users\\dellx\\appdata\\local\\programs\\python\\python38\\lib\\site-packages\\pandas\\core\\indexing.py\u001b[0m in \u001b[0;36m__getitem__\u001b[1;34m(self, key)\u001b[0m\n\u001b[0;32m   1760\u001b[0m                 \u001b[1;32mexcept\u001b[0m \u001b[1;33m(\u001b[0m\u001b[0mKeyError\u001b[0m\u001b[1;33m,\u001b[0m \u001b[0mIndexError\u001b[0m\u001b[1;33m,\u001b[0m \u001b[0mAttributeError\u001b[0m\u001b[1;33m)\u001b[0m\u001b[1;33m:\u001b[0m\u001b[1;33m\u001b[0m\u001b[1;33m\u001b[0m\u001b[0m\n\u001b[0;32m   1761\u001b[0m                     \u001b[1;32mpass\u001b[0m\u001b[1;33m\u001b[0m\u001b[1;33m\u001b[0m\u001b[0m\n\u001b[1;32m-> 1762\u001b[1;33m             \u001b[1;32mreturn\u001b[0m \u001b[0mself\u001b[0m\u001b[1;33m.\u001b[0m\u001b[0m_getitem_tuple\u001b[0m\u001b[1;33m(\u001b[0m\u001b[0mkey\u001b[0m\u001b[1;33m)\u001b[0m\u001b[1;33m\u001b[0m\u001b[1;33m\u001b[0m\u001b[0m\n\u001b[0m\u001b[0;32m   1763\u001b[0m         \u001b[1;32melse\u001b[0m\u001b[1;33m:\u001b[0m\u001b[1;33m\u001b[0m\u001b[1;33m\u001b[0m\u001b[0m\n\u001b[0;32m   1764\u001b[0m             \u001b[1;31m# we by definition only have the 0th axis\u001b[0m\u001b[1;33m\u001b[0m\u001b[1;33m\u001b[0m\u001b[1;33m\u001b[0m\u001b[0m\n",
      "\u001b[1;32mc:\\users\\dellx\\appdata\\local\\programs\\python\\python38\\lib\\site-packages\\pandas\\core\\indexing.py\u001b[0m in \u001b[0;36m_getitem_tuple\u001b[1;34m(self, tup)\u001b[0m\n\u001b[0;32m   2065\u001b[0m     \u001b[1;32mdef\u001b[0m \u001b[0m_getitem_tuple\u001b[0m\u001b[1;33m(\u001b[0m\u001b[0mself\u001b[0m\u001b[1;33m,\u001b[0m \u001b[0mtup\u001b[0m\u001b[1;33m:\u001b[0m \u001b[0mTuple\u001b[0m\u001b[1;33m)\u001b[0m\u001b[1;33m:\u001b[0m\u001b[1;33m\u001b[0m\u001b[1;33m\u001b[0m\u001b[0m\n\u001b[0;32m   2066\u001b[0m \u001b[1;33m\u001b[0m\u001b[0m\n\u001b[1;32m-> 2067\u001b[1;33m         \u001b[0mself\u001b[0m\u001b[1;33m.\u001b[0m\u001b[0m_has_valid_tuple\u001b[0m\u001b[1;33m(\u001b[0m\u001b[0mtup\u001b[0m\u001b[1;33m)\u001b[0m\u001b[1;33m\u001b[0m\u001b[1;33m\u001b[0m\u001b[0m\n\u001b[0m\u001b[0;32m   2068\u001b[0m         \u001b[1;32mtry\u001b[0m\u001b[1;33m:\u001b[0m\u001b[1;33m\u001b[0m\u001b[1;33m\u001b[0m\u001b[0m\n\u001b[0;32m   2069\u001b[0m             \u001b[1;32mreturn\u001b[0m \u001b[0mself\u001b[0m\u001b[1;33m.\u001b[0m\u001b[0m_getitem_lowerdim\u001b[0m\u001b[1;33m(\u001b[0m\u001b[0mtup\u001b[0m\u001b[1;33m)\u001b[0m\u001b[1;33m\u001b[0m\u001b[1;33m\u001b[0m\u001b[0m\n",
      "\u001b[1;32mc:\\users\\dellx\\appdata\\local\\programs\\python\\python38\\lib\\site-packages\\pandas\\core\\indexing.py\u001b[0m in \u001b[0;36m_has_valid_tuple\u001b[1;34m(self, key)\u001b[0m\n\u001b[0;32m    699\u001b[0m         \u001b[1;32mfor\u001b[0m \u001b[0mi\u001b[0m\u001b[1;33m,\u001b[0m \u001b[0mk\u001b[0m \u001b[1;32min\u001b[0m \u001b[0menumerate\u001b[0m\u001b[1;33m(\u001b[0m\u001b[0mkey\u001b[0m\u001b[1;33m)\u001b[0m\u001b[1;33m:\u001b[0m\u001b[1;33m\u001b[0m\u001b[1;33m\u001b[0m\u001b[0m\n\u001b[0;32m    700\u001b[0m             \u001b[1;32mif\u001b[0m \u001b[0mi\u001b[0m \u001b[1;33m>=\u001b[0m \u001b[0mself\u001b[0m\u001b[1;33m.\u001b[0m\u001b[0mndim\u001b[0m\u001b[1;33m:\u001b[0m\u001b[1;33m\u001b[0m\u001b[1;33m\u001b[0m\u001b[0m\n\u001b[1;32m--> 701\u001b[1;33m                 \u001b[1;32mraise\u001b[0m \u001b[0mIndexingError\u001b[0m\u001b[1;33m(\u001b[0m\u001b[1;34m\"Too many indexers\"\u001b[0m\u001b[1;33m)\u001b[0m\u001b[1;33m\u001b[0m\u001b[1;33m\u001b[0m\u001b[0m\n\u001b[0m\u001b[0;32m    702\u001b[0m             \u001b[1;32mtry\u001b[0m\u001b[1;33m:\u001b[0m\u001b[1;33m\u001b[0m\u001b[1;33m\u001b[0m\u001b[0m\n\u001b[0;32m    703\u001b[0m                 \u001b[0mself\u001b[0m\u001b[1;33m.\u001b[0m\u001b[0m_validate_key\u001b[0m\u001b[1;33m(\u001b[0m\u001b[0mk\u001b[0m\u001b[1;33m,\u001b[0m \u001b[0mi\u001b[0m\u001b[1;33m)\u001b[0m\u001b[1;33m\u001b[0m\u001b[1;33m\u001b[0m\u001b[0m\n",
      "\u001b[1;31mIndexingError\u001b[0m: Too many indexers"
     ]
    }
   ],
   "source": [
    "p=cases.iloc[:,1]\n",
    "print(p.head())"
   ]
  },
  {
   "cell_type": "code",
   "execution_count": 9,
   "metadata": {},
   "outputs": [
    {
     "ename": "NameError",
     "evalue": "name 'p' is not defined",
     "output_type": "error",
     "traceback": [
      "\u001b[1;31m---------------------------------------------------------------------------\u001b[0m",
      "\u001b[1;31mNameError\u001b[0m                                 Traceback (most recent call last)",
      "\u001b[1;32m<ipython-input-9-a3462fc9eca1>\u001b[0m in \u001b[0;36m<module>\u001b[1;34m\u001b[0m\n\u001b[1;32m----> 1\u001b[1;33m \u001b[0mp\u001b[0m\u001b[1;33m.\u001b[0m\u001b[0mmean\u001b[0m\u001b[1;33m(\u001b[0m\u001b[1;33m)\u001b[0m\u001b[1;33m\u001b[0m\u001b[1;33m\u001b[0m\u001b[0m\n\u001b[0m",
      "\u001b[1;31mNameError\u001b[0m: name 'p' is not defined"
     ]
    }
   ],
   "source": [
    "p.mean()"
   ]
  },
  {
   "cell_type": "code",
   "execution_count": 11,
   "metadata": {},
   "outputs": [
    {
     "data": {
      "text/plain": [
       "170099"
      ]
     },
     "execution_count": 11,
     "metadata": {},
     "output_type": "execute_result"
    }
   ],
   "source": [
    "p.max()"
   ]
  },
  {
   "cell_type": "code",
   "execution_count": 12,
   "metadata": {},
   "outputs": [
    {
     "data": {
      "text/plain": [
       "0"
      ]
     },
     "execution_count": 12,
     "metadata": {},
     "output_type": "execute_result"
    }
   ],
   "source": [
    "p.min()"
   ]
  },
  {
   "cell_type": "code",
   "execution_count": 19,
   "metadata": {},
   "outputs": [
    {
     "data": {
      "text/plain": [
       "0         319\n",
       "1           0\n",
       "2          16\n",
       "3           0\n",
       "4           0\n",
       "         ... \n",
       "582655      0\n",
       "582656      0\n",
       "582657      0\n",
       "582658      0\n",
       "582659      0\n",
       "Name: cases, Length: 582660, dtype: int64"
      ]
     },
     "execution_count": 19,
     "metadata": {},
     "output_type": "execute_result"
    }
   ],
   "source": [
    "\n",
    "cases.loc[:,\"cases\"]"
   ]
  },
  {
   "cell_type": "code",
   "execution_count": 20,
   "metadata": {},
   "outputs": [
    {
     "data": {
      "text/html": [
       "<div>\n",
       "<style scoped>\n",
       "    .dataframe tbody tr th:only-of-type {\n",
       "        vertical-align: middle;\n",
       "    }\n",
       "\n",
       "    .dataframe tbody tr th {\n",
       "        vertical-align: top;\n",
       "    }\n",
       "\n",
       "    .dataframe thead th {\n",
       "        text-align: right;\n",
       "    }\n",
       "</style>\n",
       "<table border=\"1\" class=\"dataframe\">\n",
       "  <thead>\n",
       "    <tr style=\"text-align: right;\">\n",
       "      <th></th>\n",
       "      <th>cases</th>\n",
       "      <th>difference</th>\n",
       "      <th>date</th>\n",
       "      <th>country_region</th>\n",
       "      <th>province_state</th>\n",
       "      <th>admin2</th>\n",
       "      <th>combined_key</th>\n",
       "      <th>fips</th>\n",
       "    </tr>\n",
       "  </thead>\n",
       "  <tbody>\n",
       "    <tr>\n",
       "      <th>0</th>\n",
       "      <td>319</td>\n",
       "      <td>1</td>\n",
       "      <td>2020-04-11</td>\n",
       "      <td>Mauritius</td>\n",
       "      <td>NaN</td>\n",
       "      <td>NaN</td>\n",
       "      <td>NaN</td>\n",
       "      <td>NaN</td>\n",
       "    </tr>\n",
       "    <tr>\n",
       "      <th>1</th>\n",
       "      <td>0</td>\n",
       "      <td>0</td>\n",
       "      <td>2020-02-27</td>\n",
       "      <td>Bahamas</td>\n",
       "      <td>NaN</td>\n",
       "      <td>NaN</td>\n",
       "      <td>NaN</td>\n",
       "      <td>NaN</td>\n",
       "    </tr>\n",
       "    <tr>\n",
       "      <th>2</th>\n",
       "      <td>16</td>\n",
       "      <td>0</td>\n",
       "      <td>2020-02-16</td>\n",
       "      <td>Germany</td>\n",
       "      <td>NaN</td>\n",
       "      <td>NaN</td>\n",
       "      <td>NaN</td>\n",
       "      <td>NaN</td>\n",
       "    </tr>\n",
       "    <tr>\n",
       "      <th>3</th>\n",
       "      <td>0</td>\n",
       "      <td>0</td>\n",
       "      <td>2020-01-31</td>\n",
       "      <td>Canada</td>\n",
       "      <td>Alberta</td>\n",
       "      <td>NaN</td>\n",
       "      <td>NaN</td>\n",
       "      <td>NaN</td>\n",
       "    </tr>\n",
       "    <tr>\n",
       "      <th>4</th>\n",
       "      <td>0</td>\n",
       "      <td>0</td>\n",
       "      <td>2020-03-04</td>\n",
       "      <td>Australia</td>\n",
       "      <td>Queensland</td>\n",
       "      <td>NaN</td>\n",
       "      <td>NaN</td>\n",
       "      <td>NaN</td>\n",
       "    </tr>\n",
       "    <tr>\n",
       "      <th>5</th>\n",
       "      <td>0</td>\n",
       "      <td>0</td>\n",
       "      <td>2020-01-25</td>\n",
       "      <td>Suriname</td>\n",
       "      <td>NaN</td>\n",
       "      <td>NaN</td>\n",
       "      <td>NaN</td>\n",
       "      <td>NaN</td>\n",
       "    </tr>\n",
       "    <tr>\n",
       "      <th>6</th>\n",
       "      <td>0</td>\n",
       "      <td>0</td>\n",
       "      <td>2020-02-07</td>\n",
       "      <td>Estonia</td>\n",
       "      <td>NaN</td>\n",
       "      <td>NaN</td>\n",
       "      <td>NaN</td>\n",
       "      <td>NaN</td>\n",
       "    </tr>\n",
       "  </tbody>\n",
       "</table>\n",
       "</div>"
      ],
      "text/plain": [
       "   cases  difference        date country_region province_state admin2  \\\n",
       "0    319           1  2020-04-11      Mauritius            NaN    NaN   \n",
       "1      0           0  2020-02-27        Bahamas            NaN    NaN   \n",
       "2     16           0  2020-02-16        Germany            NaN    NaN   \n",
       "3      0           0  2020-01-31         Canada        Alberta    NaN   \n",
       "4      0           0  2020-03-04      Australia     Queensland    NaN   \n",
       "5      0           0  2020-01-25       Suriname            NaN    NaN   \n",
       "6      0           0  2020-02-07        Estonia            NaN    NaN   \n",
       "\n",
       "  combined_key  fips  \n",
       "0          NaN   NaN  \n",
       "1          NaN   NaN  \n",
       "2          NaN   NaN  \n",
       "3          NaN   NaN  \n",
       "4          NaN   NaN  \n",
       "5          NaN   NaN  \n",
       "6          NaN   NaN  "
      ]
     },
     "execution_count": 20,
     "metadata": {},
     "output_type": "execute_result"
    }
   ],
   "source": [
    "cases.loc[:6,\"cases\":\"fips\"]"
   ]
  },
  {
   "cell_type": "code",
   "execution_count": 3,
   "metadata": {},
   "outputs": [
    {
     "data": {
      "text/plain": [
       "291329         0\n",
       "375486         0\n",
       "375485         0\n",
       "375484         0\n",
       "375483         0\n",
       "           ...  \n",
       "26361     158273\n",
       "5240      159516\n",
       "2541      163027\n",
       "12722     166831\n",
       "14257     170099\n",
       "Name: cases, Length: 582660, dtype: int64"
      ]
     },
     "execution_count": 3,
     "metadata": {},
     "output_type": "execute_result"
    }
   ],
   "source": [
    "import pandas as pd\n",
    "cases=pd.read_csv(\"cases.csv\",usecols=[\"cases\"],squeeze=True)\n",
    "cases.sort_values(ascending=True,inplace=True)\n",
    "cases"
   ]
  },
  {
   "cell_type": "code",
   "execution_count": 8,
   "metadata": {},
   "outputs": [
    {
     "ename": "IndexingError",
     "evalue": "Too many indexers",
     "output_type": "error",
     "traceback": [
      "\u001b[1;31m---------------------------------------------------------------------------\u001b[0m",
      "\u001b[1;31mIndexingError\u001b[0m                             Traceback (most recent call last)",
      "\u001b[1;32m<ipython-input-8-f52c56dd718d>\u001b[0m in \u001b[0;36m<module>\u001b[1;34m\u001b[0m\n\u001b[1;32m----> 1\u001b[1;33m \u001b[0mp\u001b[0m\u001b[1;33m=\u001b[0m\u001b[0mcases\u001b[0m\u001b[1;33m.\u001b[0m\u001b[0miloc\u001b[0m\u001b[1;33m[\u001b[0m\u001b[1;33m:\u001b[0m\u001b[1;33m,\u001b[0m\u001b[1;36m1\u001b[0m\u001b[1;33m]\u001b[0m\u001b[1;33m\u001b[0m\u001b[1;33m\u001b[0m\u001b[0m\n\u001b[0m",
      "\u001b[1;32mc:\\users\\dellx\\appdata\\local\\programs\\python\\python38\\lib\\site-packages\\pandas\\core\\indexing.py\u001b[0m in \u001b[0;36m__getitem__\u001b[1;34m(self, key)\u001b[0m\n\u001b[0;32m   1760\u001b[0m                 \u001b[1;32mexcept\u001b[0m \u001b[1;33m(\u001b[0m\u001b[0mKeyError\u001b[0m\u001b[1;33m,\u001b[0m \u001b[0mIndexError\u001b[0m\u001b[1;33m,\u001b[0m \u001b[0mAttributeError\u001b[0m\u001b[1;33m)\u001b[0m\u001b[1;33m:\u001b[0m\u001b[1;33m\u001b[0m\u001b[1;33m\u001b[0m\u001b[0m\n\u001b[0;32m   1761\u001b[0m                     \u001b[1;32mpass\u001b[0m\u001b[1;33m\u001b[0m\u001b[1;33m\u001b[0m\u001b[0m\n\u001b[1;32m-> 1762\u001b[1;33m             \u001b[1;32mreturn\u001b[0m \u001b[0mself\u001b[0m\u001b[1;33m.\u001b[0m\u001b[0m_getitem_tuple\u001b[0m\u001b[1;33m(\u001b[0m\u001b[0mkey\u001b[0m\u001b[1;33m)\u001b[0m\u001b[1;33m\u001b[0m\u001b[1;33m\u001b[0m\u001b[0m\n\u001b[0m\u001b[0;32m   1763\u001b[0m         \u001b[1;32melse\u001b[0m\u001b[1;33m:\u001b[0m\u001b[1;33m\u001b[0m\u001b[1;33m\u001b[0m\u001b[0m\n\u001b[0;32m   1764\u001b[0m             \u001b[1;31m# we by definition only have the 0th axis\u001b[0m\u001b[1;33m\u001b[0m\u001b[1;33m\u001b[0m\u001b[1;33m\u001b[0m\u001b[0m\n",
      "\u001b[1;32mc:\\users\\dellx\\appdata\\local\\programs\\python\\python38\\lib\\site-packages\\pandas\\core\\indexing.py\u001b[0m in \u001b[0;36m_getitem_tuple\u001b[1;34m(self, tup)\u001b[0m\n\u001b[0;32m   2065\u001b[0m     \u001b[1;32mdef\u001b[0m \u001b[0m_getitem_tuple\u001b[0m\u001b[1;33m(\u001b[0m\u001b[0mself\u001b[0m\u001b[1;33m,\u001b[0m \u001b[0mtup\u001b[0m\u001b[1;33m:\u001b[0m \u001b[0mTuple\u001b[0m\u001b[1;33m)\u001b[0m\u001b[1;33m:\u001b[0m\u001b[1;33m\u001b[0m\u001b[1;33m\u001b[0m\u001b[0m\n\u001b[0;32m   2066\u001b[0m \u001b[1;33m\u001b[0m\u001b[0m\n\u001b[1;32m-> 2067\u001b[1;33m         \u001b[0mself\u001b[0m\u001b[1;33m.\u001b[0m\u001b[0m_has_valid_tuple\u001b[0m\u001b[1;33m(\u001b[0m\u001b[0mtup\u001b[0m\u001b[1;33m)\u001b[0m\u001b[1;33m\u001b[0m\u001b[1;33m\u001b[0m\u001b[0m\n\u001b[0m\u001b[0;32m   2068\u001b[0m         \u001b[1;32mtry\u001b[0m\u001b[1;33m:\u001b[0m\u001b[1;33m\u001b[0m\u001b[1;33m\u001b[0m\u001b[0m\n\u001b[0;32m   2069\u001b[0m             \u001b[1;32mreturn\u001b[0m \u001b[0mself\u001b[0m\u001b[1;33m.\u001b[0m\u001b[0m_getitem_lowerdim\u001b[0m\u001b[1;33m(\u001b[0m\u001b[0mtup\u001b[0m\u001b[1;33m)\u001b[0m\u001b[1;33m\u001b[0m\u001b[1;33m\u001b[0m\u001b[0m\n",
      "\u001b[1;32mc:\\users\\dellx\\appdata\\local\\programs\\python\\python38\\lib\\site-packages\\pandas\\core\\indexing.py\u001b[0m in \u001b[0;36m_has_valid_tuple\u001b[1;34m(self, key)\u001b[0m\n\u001b[0;32m    699\u001b[0m         \u001b[1;32mfor\u001b[0m \u001b[0mi\u001b[0m\u001b[1;33m,\u001b[0m \u001b[0mk\u001b[0m \u001b[1;32min\u001b[0m \u001b[0menumerate\u001b[0m\u001b[1;33m(\u001b[0m\u001b[0mkey\u001b[0m\u001b[1;33m)\u001b[0m\u001b[1;33m:\u001b[0m\u001b[1;33m\u001b[0m\u001b[1;33m\u001b[0m\u001b[0m\n\u001b[0;32m    700\u001b[0m             \u001b[1;32mif\u001b[0m \u001b[0mi\u001b[0m \u001b[1;33m>=\u001b[0m \u001b[0mself\u001b[0m\u001b[1;33m.\u001b[0m\u001b[0mndim\u001b[0m\u001b[1;33m:\u001b[0m\u001b[1;33m\u001b[0m\u001b[1;33m\u001b[0m\u001b[0m\n\u001b[1;32m--> 701\u001b[1;33m                 \u001b[1;32mraise\u001b[0m \u001b[0mIndexingError\u001b[0m\u001b[1;33m(\u001b[0m\u001b[1;34m\"Too many indexers\"\u001b[0m\u001b[1;33m)\u001b[0m\u001b[1;33m\u001b[0m\u001b[1;33m\u001b[0m\u001b[0m\n\u001b[0m\u001b[0;32m    702\u001b[0m             \u001b[1;32mtry\u001b[0m\u001b[1;33m:\u001b[0m\u001b[1;33m\u001b[0m\u001b[1;33m\u001b[0m\u001b[0m\n\u001b[0;32m    703\u001b[0m                 \u001b[0mself\u001b[0m\u001b[1;33m.\u001b[0m\u001b[0m_validate_key\u001b[0m\u001b[1;33m(\u001b[0m\u001b[0mk\u001b[0m\u001b[1;33m,\u001b[0m \u001b[0mi\u001b[0m\u001b[1;33m)\u001b[0m\u001b[1;33m\u001b[0m\u001b[1;33m\u001b[0m\u001b[0m\n",
      "\u001b[1;31mIndexingError\u001b[0m: Too many indexers"
     ]
    }
   ],
   "source": [
    "p=cases.iloc[:,1]"
   ]
  },
  {
   "cell_type": "code",
   "execution_count": 34,
   "metadata": {},
   "outputs": [
    {
     "data": {
      "text/plain": [
       "291329    bad condition\n",
       "375486    bad condition\n",
       "375485    bad condition\n",
       "375484    bad condition\n",
       "375483    bad condition\n",
       "              ...      \n",
       "26361       much batter\n",
       "5240        much batter\n",
       "2541        much batter\n",
       "12722       much batter\n",
       "14257       much batter\n",
       "Name: cases, Length: 582660, dtype: object"
      ]
     },
     "execution_count": 34,
     "metadata": {},
     "output_type": "execute_result"
    }
   ],
   "source": [
    "count =0\n",
    "def fun(cases):\n",
    "    if cases>=2000:\n",
    "        return(\"much batter\")\n",
    "    else:\n",
    "        return(\"bad condition\")\n",
    "\n",
    "cases.apply(fun)    "
   ]
  },
  {
   "cell_type": "code",
   "execution_count": 40,
   "metadata": {},
   "outputs": [
    {
     "data": {
      "text/plain": [
       "0          True\n",
       "1         False\n",
       "2         False\n",
       "3         False\n",
       "4         False\n",
       "          ...  \n",
       "582655    False\n",
       "582656    False\n",
       "582657    False\n",
       "582658    False\n",
       "582659    False\n",
       "Name: cases, Length: 582660, dtype: bool"
      ]
     },
     "execution_count": 40,
     "metadata": {},
     "output_type": "execute_result"
    }
   ],
   "source": [
    "#filter records with more then 2000 cases\n",
    "cases=pd.read_csv(\"cases.csv\")\n",
    "cases['cases']>50"
   ]
  },
  {
   "cell_type": "code",
   "execution_count": 41,
   "metadata": {},
   "outputs": [
    {
     "data": {
      "text/html": [
       "<div>\n",
       "<style scoped>\n",
       "    .dataframe tbody tr th:only-of-type {\n",
       "        vertical-align: middle;\n",
       "    }\n",
       "\n",
       "    .dataframe tbody tr th {\n",
       "        vertical-align: top;\n",
       "    }\n",
       "\n",
       "    .dataframe thead th {\n",
       "        text-align: right;\n",
       "    }\n",
       "</style>\n",
       "<table border=\"1\" class=\"dataframe\">\n",
       "  <thead>\n",
       "    <tr style=\"text-align: right;\">\n",
       "      <th></th>\n",
       "      <th>case_type</th>\n",
       "      <th>cases</th>\n",
       "      <th>difference</th>\n",
       "      <th>date</th>\n",
       "      <th>country_region</th>\n",
       "      <th>province_state</th>\n",
       "      <th>admin2</th>\n",
       "      <th>combined_key</th>\n",
       "      <th>fips</th>\n",
       "      <th>lat</th>\n",
       "      <th>long</th>\n",
       "      <th>table_names</th>\n",
       "      <th>prep_flow_runtime</th>\n",
       "      <th>location</th>\n",
       "    </tr>\n",
       "  </thead>\n",
       "  <tbody>\n",
       "    <tr>\n",
       "      <th>0</th>\n",
       "      <td>Confirmed</td>\n",
       "      <td>319</td>\n",
       "      <td>1</td>\n",
       "      <td>2020-04-11</td>\n",
       "      <td>Mauritius</td>\n",
       "      <td>NaN</td>\n",
       "      <td>NaN</td>\n",
       "      <td>NaN</td>\n",
       "      <td>NaN</td>\n",
       "      <td>-20.200000</td>\n",
       "      <td>57.500000</td>\n",
       "      <td>Time Series</td>\n",
       "      <td>2020-04-13T21:18:41</td>\n",
       "      <td>POINT(57.5 -20.2)</td>\n",
       "    </tr>\n",
       "    <tr>\n",
       "      <th>11</th>\n",
       "      <td>Confirmed</td>\n",
       "      <td>11130</td>\n",
       "      <td>770</td>\n",
       "      <td>2020-04-05</td>\n",
       "      <td>Brazil</td>\n",
       "      <td>NaN</td>\n",
       "      <td>NaN</td>\n",
       "      <td>NaN</td>\n",
       "      <td>NaN</td>\n",
       "      <td>-14.235000</td>\n",
       "      <td>-51.925300</td>\n",
       "      <td>Time Series</td>\n",
       "      <td>2020-04-13T21:18:41</td>\n",
       "      <td>POINT(-51.9253 -14.235)</td>\n",
       "    </tr>\n",
       "    <tr>\n",
       "      <th>17</th>\n",
       "      <td>Confirmed</td>\n",
       "      <td>19665</td>\n",
       "      <td>2987</td>\n",
       "      <td>2020-02-05</td>\n",
       "      <td>China</td>\n",
       "      <td>Hubei</td>\n",
       "      <td>NaN</td>\n",
       "      <td>NaN</td>\n",
       "      <td>NaN</td>\n",
       "      <td>30.975600</td>\n",
       "      <td>112.270700</td>\n",
       "      <td>Time Series</td>\n",
       "      <td>2020-04-13T21:18:41</td>\n",
       "      <td>POINT(112.2707 30.9756)</td>\n",
       "    </tr>\n",
       "    <tr>\n",
       "      <th>20</th>\n",
       "      <td>Confirmed</td>\n",
       "      <td>1177</td>\n",
       "      <td>18</td>\n",
       "      <td>2020-02-11</td>\n",
       "      <td>China</td>\n",
       "      <td>Guangdong</td>\n",
       "      <td>NaN</td>\n",
       "      <td>NaN</td>\n",
       "      <td>NaN</td>\n",
       "      <td>23.341700</td>\n",
       "      <td>113.424400</td>\n",
       "      <td>Time Series</td>\n",
       "      <td>2020-04-13T21:18:41</td>\n",
       "      <td>POINT(113.4244 23.3417)</td>\n",
       "    </tr>\n",
       "    <tr>\n",
       "      <th>22</th>\n",
       "      <td>Confirmed</td>\n",
       "      <td>387</td>\n",
       "      <td>0</td>\n",
       "      <td>2020-03-25</td>\n",
       "      <td>Argentina</td>\n",
       "      <td>NaN</td>\n",
       "      <td>NaN</td>\n",
       "      <td>NaN</td>\n",
       "      <td>NaN</td>\n",
       "      <td>-38.416100</td>\n",
       "      <td>-63.616700</td>\n",
       "      <td>Time Series</td>\n",
       "      <td>2020-04-13T21:18:41</td>\n",
       "      <td>POINT(-63.6167 -38.4161)</td>\n",
       "    </tr>\n",
       "    <tr>\n",
       "      <th>...</th>\n",
       "      <td>...</td>\n",
       "      <td>...</td>\n",
       "      <td>...</td>\n",
       "      <td>...</td>\n",
       "      <td>...</td>\n",
       "      <td>...</td>\n",
       "      <td>...</td>\n",
       "      <td>...</td>\n",
       "      <td>...</td>\n",
       "      <td>...</td>\n",
       "      <td>...</td>\n",
       "      <td>...</td>\n",
       "      <td>...</td>\n",
       "      <td>...</td>\n",
       "    </tr>\n",
       "    <tr>\n",
       "      <th>581333</th>\n",
       "      <td>Confirmed</td>\n",
       "      <td>244</td>\n",
       "      <td>6</td>\n",
       "      <td>2020-04-06</td>\n",
       "      <td>US</td>\n",
       "      <td>Georgia</td>\n",
       "      <td>Clayton</td>\n",
       "      <td>Clayton, Georgia, US</td>\n",
       "      <td>13063.0</td>\n",
       "      <td>33.541872</td>\n",
       "      <td>-84.355942</td>\n",
       "      <td>Time Series</td>\n",
       "      <td>2020-04-13T21:18:41</td>\n",
       "      <td>POINT(-84.35594188 33.54187245)</td>\n",
       "    </tr>\n",
       "    <tr>\n",
       "      <th>581451</th>\n",
       "      <td>Confirmed</td>\n",
       "      <td>258</td>\n",
       "      <td>15</td>\n",
       "      <td>2020-04-08</td>\n",
       "      <td>US</td>\n",
       "      <td>Oregon</td>\n",
       "      <td>Multnomah</td>\n",
       "      <td>Multnomah, Oregon, US</td>\n",
       "      <td>41051.0</td>\n",
       "      <td>45.547480</td>\n",
       "      <td>-122.416935</td>\n",
       "      <td>Time Series</td>\n",
       "      <td>2020-04-13T21:18:41</td>\n",
       "      <td>POINT(-122.4169351 45.54747959)</td>\n",
       "    </tr>\n",
       "    <tr>\n",
       "      <th>581494</th>\n",
       "      <td>Confirmed</td>\n",
       "      <td>52</td>\n",
       "      <td>8</td>\n",
       "      <td>2020-04-07</td>\n",
       "      <td>US</td>\n",
       "      <td>Michigan</td>\n",
       "      <td>Ottawa</td>\n",
       "      <td>Ottawa, Michigan, US</td>\n",
       "      <td>26139.0</td>\n",
       "      <td>42.959968</td>\n",
       "      <td>-85.996911</td>\n",
       "      <td>Time Series</td>\n",
       "      <td>2020-04-13T21:18:41</td>\n",
       "      <td>POINT(-85.9969107 42.95996803)</td>\n",
       "    </tr>\n",
       "    <tr>\n",
       "      <th>581527</th>\n",
       "      <td>Confirmed</td>\n",
       "      <td>247</td>\n",
       "      <td>16</td>\n",
       "      <td>2020-04-03</td>\n",
       "      <td>US</td>\n",
       "      <td>South Carolina</td>\n",
       "      <td>Charleston</td>\n",
       "      <td>Charleston, South Carolina, US</td>\n",
       "      <td>45019.0</td>\n",
       "      <td>32.824879</td>\n",
       "      <td>-79.965123</td>\n",
       "      <td>Time Series</td>\n",
       "      <td>2020-04-13T21:18:41</td>\n",
       "      <td>POINT(-79.96512315 32.82487866)</td>\n",
       "    </tr>\n",
       "    <tr>\n",
       "      <th>581616</th>\n",
       "      <td>Confirmed</td>\n",
       "      <td>4808</td>\n",
       "      <td>-58</td>\n",
       "      <td>2020-04-03</td>\n",
       "      <td>US</td>\n",
       "      <td>New Jersey</td>\n",
       "      <td>Unassigned</td>\n",
       "      <td>Unassigned, New Jersey, US</td>\n",
       "      <td>NaN</td>\n",
       "      <td>0.000000</td>\n",
       "      <td>0.000000</td>\n",
       "      <td>Time Series</td>\n",
       "      <td>2020-04-13T21:18:41</td>\n",
       "      <td>POINT(0 0)</td>\n",
       "    </tr>\n",
       "  </tbody>\n",
       "</table>\n",
       "<p>16682 rows × 14 columns</p>\n",
       "</div>"
      ],
      "text/plain": [
       "        case_type  cases  difference        date country_region  \\\n",
       "0       Confirmed    319           1  2020-04-11      Mauritius   \n",
       "11      Confirmed  11130         770  2020-04-05         Brazil   \n",
       "17      Confirmed  19665        2987  2020-02-05          China   \n",
       "20      Confirmed   1177          18  2020-02-11          China   \n",
       "22      Confirmed    387           0  2020-03-25      Argentina   \n",
       "...           ...    ...         ...         ...            ...   \n",
       "581333  Confirmed    244           6  2020-04-06             US   \n",
       "581451  Confirmed    258          15  2020-04-08             US   \n",
       "581494  Confirmed     52           8  2020-04-07             US   \n",
       "581527  Confirmed    247          16  2020-04-03             US   \n",
       "581616  Confirmed   4808         -58  2020-04-03             US   \n",
       "\n",
       "        province_state      admin2                    combined_key     fips  \\\n",
       "0                  NaN         NaN                             NaN      NaN   \n",
       "11                 NaN         NaN                             NaN      NaN   \n",
       "17               Hubei         NaN                             NaN      NaN   \n",
       "20           Guangdong         NaN                             NaN      NaN   \n",
       "22                 NaN         NaN                             NaN      NaN   \n",
       "...                ...         ...                             ...      ...   \n",
       "581333         Georgia     Clayton            Clayton, Georgia, US  13063.0   \n",
       "581451          Oregon   Multnomah           Multnomah, Oregon, US  41051.0   \n",
       "581494        Michigan      Ottawa            Ottawa, Michigan, US  26139.0   \n",
       "581527  South Carolina  Charleston  Charleston, South Carolina, US  45019.0   \n",
       "581616      New Jersey  Unassigned      Unassigned, New Jersey, US      NaN   \n",
       "\n",
       "              lat        long  table_names    prep_flow_runtime  \\\n",
       "0      -20.200000   57.500000  Time Series  2020-04-13T21:18:41   \n",
       "11     -14.235000  -51.925300  Time Series  2020-04-13T21:18:41   \n",
       "17      30.975600  112.270700  Time Series  2020-04-13T21:18:41   \n",
       "20      23.341700  113.424400  Time Series  2020-04-13T21:18:41   \n",
       "22     -38.416100  -63.616700  Time Series  2020-04-13T21:18:41   \n",
       "...           ...         ...          ...                  ...   \n",
       "581333  33.541872  -84.355942  Time Series  2020-04-13T21:18:41   \n",
       "581451  45.547480 -122.416935  Time Series  2020-04-13T21:18:41   \n",
       "581494  42.959968  -85.996911  Time Series  2020-04-13T21:18:41   \n",
       "581527  32.824879  -79.965123  Time Series  2020-04-13T21:18:41   \n",
       "581616   0.000000    0.000000  Time Series  2020-04-13T21:18:41   \n",
       "\n",
       "                               location  \n",
       "0                     POINT(57.5 -20.2)  \n",
       "11              POINT(-51.9253 -14.235)  \n",
       "17              POINT(112.2707 30.9756)  \n",
       "20              POINT(113.4244 23.3417)  \n",
       "22             POINT(-63.6167 -38.4161)  \n",
       "...                                 ...  \n",
       "581333  POINT(-84.35594188 33.54187245)  \n",
       "581451  POINT(-122.4169351 45.54747959)  \n",
       "581494   POINT(-85.9969107 42.95996803)  \n",
       "581527  POINT(-79.96512315 32.82487866)  \n",
       "581616                       POINT(0 0)  \n",
       "\n",
       "[16682 rows x 14 columns]"
      ]
     },
     "execution_count": 41,
     "metadata": {},
     "output_type": "execute_result"
    }
   ],
   "source": [
    "filter1=cases['cases']>50\n",
    "#apply filter to dataframe\n",
    "filtered_new=cases[filter1]\n",
    "#view filter datafream\n",
    "filtered_new"
   ]
  },
  {
   "cell_type": "code",
   "execution_count": 44,
   "metadata": {},
   "outputs": [
    {
     "data": {
      "text/plain": [
       "(16682, 14)"
      ]
     },
     "execution_count": 44,
     "metadata": {},
     "output_type": "execute_result"
    }
   ],
   "source": [
    "filtered_new.shape"
   ]
  },
  {
   "cell_type": "code",
   "execution_count": 47,
   "metadata": {},
   "outputs": [
    {
     "data": {
      "text/plain": [
       "0         Confirmed\n",
       "1            Deaths\n",
       "2         Confirmed\n",
       "3            Deaths\n",
       "4            Deaths\n",
       "            ...    \n",
       "582655       Deaths\n",
       "582656    Confirmed\n",
       "582657    Confirmed\n",
       "582658       Deaths\n",
       "582659       Deaths\n",
       "Name: case_type, Length: 582660, dtype: object"
      ]
     },
     "execution_count": 47,
     "metadata": {},
     "output_type": "execute_result"
    }
   ],
   "source": [
    "m =cases.iloc[:,0]\n",
    "m"
   ]
  },
  {
   "cell_type": "code",
   "execution_count": 56,
   "metadata": {},
   "outputs": [
    {
     "data": {
      "text/plain": [
       "0          True\n",
       "1         False\n",
       "2          True\n",
       "3         False\n",
       "4         False\n",
       "          ...  \n",
       "582655    False\n",
       "582656     True\n",
       "582657     True\n",
       "582658    False\n",
       "582659    False\n",
       "Name: case_type, Length: 582660, dtype: bool"
      ]
     },
     "execution_count": 56,
     "metadata": {},
     "output_type": "execute_result"
    }
   ],
   "source": [
    "cases['case_type']=='Confirmed'"
   ]
  },
  {
   "cell_type": "code",
   "execution_count": 57,
   "metadata": {},
   "outputs": [
    {
     "data": {
      "text/html": [
       "<div>\n",
       "<style scoped>\n",
       "    .dataframe tbody tr th:only-of-type {\n",
       "        vertical-align: middle;\n",
       "    }\n",
       "\n",
       "    .dataframe tbody tr th {\n",
       "        vertical-align: top;\n",
       "    }\n",
       "\n",
       "    .dataframe thead th {\n",
       "        text-align: right;\n",
       "    }\n",
       "</style>\n",
       "<table border=\"1\" class=\"dataframe\">\n",
       "  <thead>\n",
       "    <tr style=\"text-align: right;\">\n",
       "      <th></th>\n",
       "      <th>case_type</th>\n",
       "      <th>cases</th>\n",
       "      <th>difference</th>\n",
       "      <th>date</th>\n",
       "      <th>country_region</th>\n",
       "      <th>province_state</th>\n",
       "      <th>admin2</th>\n",
       "      <th>combined_key</th>\n",
       "      <th>fips</th>\n",
       "      <th>lat</th>\n",
       "      <th>long</th>\n",
       "      <th>table_names</th>\n",
       "      <th>prep_flow_runtime</th>\n",
       "      <th>location</th>\n",
       "    </tr>\n",
       "  </thead>\n",
       "  <tbody>\n",
       "    <tr>\n",
       "      <th>1</th>\n",
       "      <td>Deaths</td>\n",
       "      <td>0</td>\n",
       "      <td>0</td>\n",
       "      <td>2020-02-27</td>\n",
       "      <td>Bahamas</td>\n",
       "      <td>NaN</td>\n",
       "      <td>NaN</td>\n",
       "      <td>NaN</td>\n",
       "      <td>NaN</td>\n",
       "      <td>25.034300</td>\n",
       "      <td>-77.396300</td>\n",
       "      <td>Time Series</td>\n",
       "      <td>2020-04-13T21:18:41</td>\n",
       "      <td>POINT(-77.3963 25.0343)</td>\n",
       "    </tr>\n",
       "    <tr>\n",
       "      <th>3</th>\n",
       "      <td>Deaths</td>\n",
       "      <td>0</td>\n",
       "      <td>0</td>\n",
       "      <td>2020-01-31</td>\n",
       "      <td>Canada</td>\n",
       "      <td>Alberta</td>\n",
       "      <td>NaN</td>\n",
       "      <td>NaN</td>\n",
       "      <td>NaN</td>\n",
       "      <td>53.933300</td>\n",
       "      <td>-116.576500</td>\n",
       "      <td>Time Series</td>\n",
       "      <td>2020-04-13T21:18:41</td>\n",
       "      <td>POINT(-116.5765 53.9333)</td>\n",
       "    </tr>\n",
       "    <tr>\n",
       "      <th>4</th>\n",
       "      <td>Deaths</td>\n",
       "      <td>0</td>\n",
       "      <td>0</td>\n",
       "      <td>2020-03-04</td>\n",
       "      <td>Australia</td>\n",
       "      <td>Queensland</td>\n",
       "      <td>NaN</td>\n",
       "      <td>NaN</td>\n",
       "      <td>NaN</td>\n",
       "      <td>-28.016700</td>\n",
       "      <td>153.400000</td>\n",
       "      <td>Time Series</td>\n",
       "      <td>2020-04-13T21:18:41</td>\n",
       "      <td>POINT(153.4 -28.0167)</td>\n",
       "    </tr>\n",
       "    <tr>\n",
       "      <th>6</th>\n",
       "      <td>Deaths</td>\n",
       "      <td>0</td>\n",
       "      <td>0</td>\n",
       "      <td>2020-02-07</td>\n",
       "      <td>Estonia</td>\n",
       "      <td>NaN</td>\n",
       "      <td>NaN</td>\n",
       "      <td>NaN</td>\n",
       "      <td>NaN</td>\n",
       "      <td>58.595300</td>\n",
       "      <td>25.013600</td>\n",
       "      <td>Time Series</td>\n",
       "      <td>2020-04-13T21:18:41</td>\n",
       "      <td>POINT(25.0136 58.5953)</td>\n",
       "    </tr>\n",
       "    <tr>\n",
       "      <th>8</th>\n",
       "      <td>Deaths</td>\n",
       "      <td>21</td>\n",
       "      <td>0</td>\n",
       "      <td>2020-04-11</td>\n",
       "      <td>Croatia</td>\n",
       "      <td>NaN</td>\n",
       "      <td>NaN</td>\n",
       "      <td>NaN</td>\n",
       "      <td>NaN</td>\n",
       "      <td>45.100000</td>\n",
       "      <td>15.200000</td>\n",
       "      <td>Time Series</td>\n",
       "      <td>2020-04-13T21:18:41</td>\n",
       "      <td>POINT(15.2 45.1)</td>\n",
       "    </tr>\n",
       "    <tr>\n",
       "      <th>...</th>\n",
       "      <td>...</td>\n",
       "      <td>...</td>\n",
       "      <td>...</td>\n",
       "      <td>...</td>\n",
       "      <td>...</td>\n",
       "      <td>...</td>\n",
       "      <td>...</td>\n",
       "      <td>...</td>\n",
       "      <td>...</td>\n",
       "      <td>...</td>\n",
       "      <td>...</td>\n",
       "      <td>...</td>\n",
       "      <td>...</td>\n",
       "      <td>...</td>\n",
       "    </tr>\n",
       "    <tr>\n",
       "      <th>582652</th>\n",
       "      <td>Deaths</td>\n",
       "      <td>0</td>\n",
       "      <td>0</td>\n",
       "      <td>2020-01-22</td>\n",
       "      <td>US</td>\n",
       "      <td>Tennessee</td>\n",
       "      <td>Shelby</td>\n",
       "      <td>Shelby, Tennessee, US</td>\n",
       "      <td>47157.0</td>\n",
       "      <td>35.186478</td>\n",
       "      <td>-89.896924</td>\n",
       "      <td>Time Series</td>\n",
       "      <td>2020-04-13T21:18:41</td>\n",
       "      <td>POINT(-89.89692423 35.1864775)</td>\n",
       "    </tr>\n",
       "    <tr>\n",
       "      <th>582653</th>\n",
       "      <td>Deaths</td>\n",
       "      <td>0</td>\n",
       "      <td>0</td>\n",
       "      <td>2020-01-22</td>\n",
       "      <td>US</td>\n",
       "      <td>Florida</td>\n",
       "      <td>Palm Beach</td>\n",
       "      <td>Palm Beach, Florida, US</td>\n",
       "      <td>12099.0</td>\n",
       "      <td>26.646763</td>\n",
       "      <td>-80.465360</td>\n",
       "      <td>Time Series</td>\n",
       "      <td>2020-04-13T21:18:41</td>\n",
       "      <td>POINT(-80.46536002 26.64676272)</td>\n",
       "    </tr>\n",
       "    <tr>\n",
       "      <th>582655</th>\n",
       "      <td>Deaths</td>\n",
       "      <td>0</td>\n",
       "      <td>0</td>\n",
       "      <td>2020-01-22</td>\n",
       "      <td>US</td>\n",
       "      <td>Mississippi</td>\n",
       "      <td>Hancock</td>\n",
       "      <td>Hancock, Mississippi, US</td>\n",
       "      <td>28045.0</td>\n",
       "      <td>30.418302</td>\n",
       "      <td>-89.488510</td>\n",
       "      <td>Time Series</td>\n",
       "      <td>2020-04-13T21:18:41</td>\n",
       "      <td>POINT(-89.48851033 30.41830223)</td>\n",
       "    </tr>\n",
       "    <tr>\n",
       "      <th>582658</th>\n",
       "      <td>Deaths</td>\n",
       "      <td>0</td>\n",
       "      <td>0</td>\n",
       "      <td>2020-01-22</td>\n",
       "      <td>US</td>\n",
       "      <td>Louisiana</td>\n",
       "      <td>Lincoln</td>\n",
       "      <td>Lincoln, Louisiana, US</td>\n",
       "      <td>22061.0</td>\n",
       "      <td>32.600315</td>\n",
       "      <td>-92.665974</td>\n",
       "      <td>Time Series</td>\n",
       "      <td>2020-04-13T21:18:41</td>\n",
       "      <td>POINT(-92.6659741 32.6003154)</td>\n",
       "    </tr>\n",
       "    <tr>\n",
       "      <th>582659</th>\n",
       "      <td>Deaths</td>\n",
       "      <td>0</td>\n",
       "      <td>0</td>\n",
       "      <td>2020-01-22</td>\n",
       "      <td>US</td>\n",
       "      <td>New Jersey</td>\n",
       "      <td>Warren</td>\n",
       "      <td>Warren, New Jersey, US</td>\n",
       "      <td>34041.0</td>\n",
       "      <td>40.859518</td>\n",
       "      <td>-74.995565</td>\n",
       "      <td>Time Series</td>\n",
       "      <td>2020-04-13T21:18:41</td>\n",
       "      <td>POINT(-74.99556527 40.85951833)</td>\n",
       "    </tr>\n",
       "  </tbody>\n",
       "</table>\n",
       "<p>291330 rows × 14 columns</p>\n",
       "</div>"
      ],
      "text/plain": [
       "       case_type  cases  difference        date country_region province_state  \\\n",
       "1         Deaths      0           0  2020-02-27        Bahamas            NaN   \n",
       "3         Deaths      0           0  2020-01-31         Canada        Alberta   \n",
       "4         Deaths      0           0  2020-03-04      Australia     Queensland   \n",
       "6         Deaths      0           0  2020-02-07        Estonia            NaN   \n",
       "8         Deaths     21           0  2020-04-11        Croatia            NaN   \n",
       "...          ...    ...         ...         ...            ...            ...   \n",
       "582652    Deaths      0           0  2020-01-22             US      Tennessee   \n",
       "582653    Deaths      0           0  2020-01-22             US        Florida   \n",
       "582655    Deaths      0           0  2020-01-22             US    Mississippi   \n",
       "582658    Deaths      0           0  2020-01-22             US      Louisiana   \n",
       "582659    Deaths      0           0  2020-01-22             US     New Jersey   \n",
       "\n",
       "            admin2              combined_key     fips        lat        long  \\\n",
       "1              NaN                       NaN      NaN  25.034300  -77.396300   \n",
       "3              NaN                       NaN      NaN  53.933300 -116.576500   \n",
       "4              NaN                       NaN      NaN -28.016700  153.400000   \n",
       "6              NaN                       NaN      NaN  58.595300   25.013600   \n",
       "8              NaN                       NaN      NaN  45.100000   15.200000   \n",
       "...            ...                       ...      ...        ...         ...   \n",
       "582652      Shelby     Shelby, Tennessee, US  47157.0  35.186478  -89.896924   \n",
       "582653  Palm Beach   Palm Beach, Florida, US  12099.0  26.646763  -80.465360   \n",
       "582655     Hancock  Hancock, Mississippi, US  28045.0  30.418302  -89.488510   \n",
       "582658     Lincoln    Lincoln, Louisiana, US  22061.0  32.600315  -92.665974   \n",
       "582659      Warren    Warren, New Jersey, US  34041.0  40.859518  -74.995565   \n",
       "\n",
       "        table_names    prep_flow_runtime                         location  \n",
       "1       Time Series  2020-04-13T21:18:41          POINT(-77.3963 25.0343)  \n",
       "3       Time Series  2020-04-13T21:18:41         POINT(-116.5765 53.9333)  \n",
       "4       Time Series  2020-04-13T21:18:41            POINT(153.4 -28.0167)  \n",
       "6       Time Series  2020-04-13T21:18:41           POINT(25.0136 58.5953)  \n",
       "8       Time Series  2020-04-13T21:18:41                 POINT(15.2 45.1)  \n",
       "...             ...                  ...                              ...  \n",
       "582652  Time Series  2020-04-13T21:18:41   POINT(-89.89692423 35.1864775)  \n",
       "582653  Time Series  2020-04-13T21:18:41  POINT(-80.46536002 26.64676272)  \n",
       "582655  Time Series  2020-04-13T21:18:41  POINT(-89.48851033 30.41830223)  \n",
       "582658  Time Series  2020-04-13T21:18:41    POINT(-92.6659741 32.6003154)  \n",
       "582659  Time Series  2020-04-13T21:18:41  POINT(-74.99556527 40.85951833)  \n",
       "\n",
       "[291330 rows x 14 columns]"
      ]
     },
     "execution_count": 57,
     "metadata": {},
     "output_type": "execute_result"
    }
   ],
   "source": [
    "filter1=cases['case_type']>'Confirmed'\n",
    "#apply filter to dataframe\n",
    "filtered_new=cases[filter1]\n",
    "#view filter datafream\n",
    "filtered_new"
   ]
  },
  {
   "cell_type": "code",
   "execution_count": 27,
   "metadata": {},
   "outputs": [
    {
     "name": "stderr",
     "output_type": "stream",
     "text": [
      "No handles with labels found to put in legend.\n"
     ]
    },
    {
     "data": {
      "image/png": "[encoded data removed]",
      "text/plain": [
       "<Figure size 432x288 with 1 Axes>"
      ]
     },
     "metadata": {
      "needs_background": "light"
     },
     "output_type": "display_data"
    }
   ],
   "source": [
    "import matplotlib.pyplot as plt\n",
    "import pandas as pd\n",
    "import numpy as np\n",
    "cases=pd.read_csv(\"cases.csv\")\n",
    "y1=cases['cases']\n",
    "x=np.arange(0,582660)\n",
    "plt.plot(x,y1)\n",
    "plt.legend()\n",
    "plt.show()"
   ]
  }
 ],
 "metadata": {
  "kernelspec": {
   "display_name": "Python 3",
   "language": "python",
   "name": "python3"
  },
  "language_info": {
   "codemirror_mode": {
    "name": "ipython",
    "version": 3
   },
   "file_extension": ".py",
   "mimetype": "text/x-python",
   "name": "python",
   "nbconvert_exporter": "python",
   "pygments_lexer": "ipython3",
   "version": "3.7.7"
  }
 },
 "nbformat": 4,
 "nbformat_minor": 4
}
